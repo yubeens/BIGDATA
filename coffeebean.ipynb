{
 "cells": [
  {
   "cell_type": "code",
   "execution_count": 22,
   "metadata": {},
   "outputs": [],
   "source": [
    "from selenium import webdriver\n",
    "from selenium.webdriver.common.by import By\n",
    "import time"
   ]
  },
  {
   "cell_type": "code",
   "execution_count": 26,
   "metadata": {},
   "outputs": [
    {
     "ename": "NoSuchElementException",
     "evalue": "Message: no such element: Unable to locate element: {\"method\":\"css selector\",\"selector\":\"p.name > strong\"}\n  (Session info: chrome=134.0.6998.89); For documentation on this error, please visit: https://www.selenium.dev/documentation/webdriver/troubleshooting/errors#no-such-element-exception\nStacktrace:\n\tGetHandleVerifier [0x00007FF71713FE45+26629]\n\t(No symbol) [0x00007FF7170A6010]\n\t(No symbol) [0x00007FF716F3931A]\n\t(No symbol) [0x00007FF716F8F8E7]\n\t(No symbol) [0x00007FF716F8FB1C]\n\t(No symbol) [0x00007FF716F8228C]\n\t(No symbol) [0x00007FF716FB7AEF]\n\t(No symbol) [0x00007FF716F82156]\n\t(No symbol) [0x00007FF716FB7CC0]\n\t(No symbol) [0x00007FF716FE0169]\n\t(No symbol) [0x00007FF716FB7883]\n\t(No symbol) [0x00007FF716F80550]\n\t(No symbol) [0x00007FF716F81803]\n\tGetHandleVerifier [0x00007FF7174972BD+3529853]\n\tGetHandleVerifier [0x00007FF7174ADA22+3621858]\n\tGetHandleVerifier [0x00007FF7174A24D3+3575443]\n\tGetHandleVerifier [0x00007FF71720B77A+860474]\n\t(No symbol) [0x00007FF7170B088F]\n\t(No symbol) [0x00007FF7170ACBC4]\n\t(No symbol) [0x00007FF7170ACD66]\n\t(No symbol) [0x00007FF71709C2C9]\n\tBaseThreadInitThunk [0x00007FFE5DF67374+20]\n\tRtlUserThreadStart [0x00007FFE5E21CC91+33]\n",
     "output_type": "error",
     "traceback": [
      "\u001b[1;31m---------------------------------------------------------------------------\u001b[0m",
      "\u001b[1;31mNoSuchElementException\u001b[0m                    Traceback (most recent call last)",
      "Cell \u001b[1;32mIn[26], line 24\u001b[0m\n\u001b[0;32m     21\u001b[0m     \u001b[38;5;28;01mreturn\u001b[39;00m result\n\u001b[0;32m     23\u001b[0m \u001b[38;5;66;03m# 함수 호출\u001b[39;00m\n\u001b[1;32m---> 24\u001b[0m result \u001b[38;5;241m=\u001b[39m CoffeeBean_store()\n\u001b[0;32m     26\u001b[0m \u001b[38;5;66;03m# 결과 출력\u001b[39;00m\n\u001b[0;32m     27\u001b[0m \u001b[38;5;28mprint\u001b[39m(result)\n",
      "Cell \u001b[1;32mIn[26], line 13\u001b[0m, in \u001b[0;36mCoffeeBean_store\u001b[1;34m()\u001b[0m\n\u001b[0;32m     11\u001b[0m \u001b[38;5;28;01mfor\u001b[39;00m store \u001b[38;5;129;01min\u001b[39;00m store_list:\n\u001b[0;32m     12\u001b[0m     name \u001b[38;5;241m=\u001b[39m store\u001b[38;5;241m.\u001b[39mfind_element(\u001b[38;5;124m\"\u001b[39m\u001b[38;5;124mcss selector\u001b[39m\u001b[38;5;124m\"\u001b[39m, \u001b[38;5;124m\"\u001b[39m\u001b[38;5;124mp.name > span\u001b[39m\u001b[38;5;124m\"\u001b[39m)\u001b[38;5;241m.\u001b[39mtext\n\u001b[1;32m---> 13\u001b[0m     dis \u001b[38;5;241m=\u001b[39m store\u001b[38;5;241m.\u001b[39mfind_element(\u001b[38;5;124m\"\u001b[39m\u001b[38;5;124mcss selector\u001b[39m\u001b[38;5;124m\"\u001b[39m, \u001b[38;5;124m\"\u001b[39m\u001b[38;5;124mp.name > strong\u001b[39m\u001b[38;5;124m\"\u001b[39m)\u001b[38;5;241m.\u001b[39mtext\n\u001b[0;32m     14\u001b[0m     name \u001b[38;5;241m=\u001b[39m name\u001b[38;5;241m.\u001b[39mreplace(dis, \u001b[38;5;124m'\u001b[39m\u001b[38;5;124m'\u001b[39m)\n\u001b[0;32m     15\u001b[0m     address \u001b[38;5;241m=\u001b[39m store\u001b[38;5;241m.\u001b[39mfind_element(\u001b[38;5;124m\"\u001b[39m\u001b[38;5;124mcss selector\u001b[39m\u001b[38;5;124m\"\u001b[39m, \u001b[38;5;124m\"\u001b[39m\u001b[38;5;124mp.address > span\u001b[39m\u001b[38;5;124m\"\u001b[39m)\u001b[38;5;241m.\u001b[39mtext\n",
      "File \u001b[1;32mc:\\Users\\it\\anaconda3\\Lib\\site-packages\\selenium\\webdriver\\remote\\webelement.py:601\u001b[0m, in \u001b[0;36mWebElement.find_element\u001b[1;34m(self, by, value)\u001b[0m\n\u001b[0;32m    575\u001b[0m \u001b[38;5;250m\u001b[39m\u001b[38;5;124;03m\"\"\"Find an element given a By strategy and locator.\u001b[39;00m\n\u001b[0;32m    576\u001b[0m \n\u001b[0;32m    577\u001b[0m \u001b[38;5;124;03mParameters:\u001b[39;00m\n\u001b[1;32m   (...)\u001b[0m\n\u001b[0;32m    598\u001b[0m \u001b[38;5;124;03m    The first matching `WebElement` found on the page.\u001b[39;00m\n\u001b[0;32m    599\u001b[0m \u001b[38;5;124;03m\"\"\"\u001b[39;00m\n\u001b[0;32m    600\u001b[0m by, value \u001b[38;5;241m=\u001b[39m \u001b[38;5;28mself\u001b[39m\u001b[38;5;241m.\u001b[39m_parent\u001b[38;5;241m.\u001b[39mlocator_converter\u001b[38;5;241m.\u001b[39mconvert(by, value)\n\u001b[1;32m--> 601\u001b[0m \u001b[38;5;28;01mreturn\u001b[39;00m \u001b[38;5;28mself\u001b[39m\u001b[38;5;241m.\u001b[39m_execute(Command\u001b[38;5;241m.\u001b[39mFIND_CHILD_ELEMENT, {\u001b[38;5;124m\"\u001b[39m\u001b[38;5;124musing\u001b[39m\u001b[38;5;124m\"\u001b[39m: by, \u001b[38;5;124m\"\u001b[39m\u001b[38;5;124mvalue\u001b[39m\u001b[38;5;124m\"\u001b[39m: value})[\u001b[38;5;124m\"\u001b[39m\u001b[38;5;124mvalue\u001b[39m\u001b[38;5;124m\"\u001b[39m]\n",
      "File \u001b[1;32mc:\\Users\\it\\anaconda3\\Lib\\site-packages\\selenium\\webdriver\\remote\\webelement.py:572\u001b[0m, in \u001b[0;36mWebElement._execute\u001b[1;34m(self, command, params)\u001b[0m\n\u001b[0;32m    570\u001b[0m     params \u001b[38;5;241m=\u001b[39m {}\n\u001b[0;32m    571\u001b[0m params[\u001b[38;5;124m\"\u001b[39m\u001b[38;5;124mid\u001b[39m\u001b[38;5;124m\"\u001b[39m] \u001b[38;5;241m=\u001b[39m \u001b[38;5;28mself\u001b[39m\u001b[38;5;241m.\u001b[39m_id\n\u001b[1;32m--> 572\u001b[0m \u001b[38;5;28;01mreturn\u001b[39;00m \u001b[38;5;28mself\u001b[39m\u001b[38;5;241m.\u001b[39m_parent\u001b[38;5;241m.\u001b[39mexecute(command, params)\n",
      "File \u001b[1;32mc:\\Users\\it\\anaconda3\\Lib\\site-packages\\selenium\\webdriver\\remote\\webdriver.py:429\u001b[0m, in \u001b[0;36mWebDriver.execute\u001b[1;34m(self, driver_command, params)\u001b[0m\n\u001b[0;32m    427\u001b[0m response \u001b[38;5;241m=\u001b[39m \u001b[38;5;28mself\u001b[39m\u001b[38;5;241m.\u001b[39mcommand_executor\u001b[38;5;241m.\u001b[39mexecute(driver_command, params)\n\u001b[0;32m    428\u001b[0m \u001b[38;5;28;01mif\u001b[39;00m response:\n\u001b[1;32m--> 429\u001b[0m     \u001b[38;5;28mself\u001b[39m\u001b[38;5;241m.\u001b[39merror_handler\u001b[38;5;241m.\u001b[39mcheck_response(response)\n\u001b[0;32m    430\u001b[0m     response[\u001b[38;5;124m\"\u001b[39m\u001b[38;5;124mvalue\u001b[39m\u001b[38;5;124m\"\u001b[39m] \u001b[38;5;241m=\u001b[39m \u001b[38;5;28mself\u001b[39m\u001b[38;5;241m.\u001b[39m_unwrap_value(response\u001b[38;5;241m.\u001b[39mget(\u001b[38;5;124m\"\u001b[39m\u001b[38;5;124mvalue\u001b[39m\u001b[38;5;124m\"\u001b[39m, \u001b[38;5;28;01mNone\u001b[39;00m))\n\u001b[0;32m    431\u001b[0m     \u001b[38;5;28;01mreturn\u001b[39;00m response\n",
      "File \u001b[1;32mc:\\Users\\it\\anaconda3\\Lib\\site-packages\\selenium\\webdriver\\remote\\errorhandler.py:232\u001b[0m, in \u001b[0;36mErrorHandler.check_response\u001b[1;34m(self, response)\u001b[0m\n\u001b[0;32m    230\u001b[0m         alert_text \u001b[38;5;241m=\u001b[39m value[\u001b[38;5;124m\"\u001b[39m\u001b[38;5;124malert\u001b[39m\u001b[38;5;124m\"\u001b[39m]\u001b[38;5;241m.\u001b[39mget(\u001b[38;5;124m\"\u001b[39m\u001b[38;5;124mtext\u001b[39m\u001b[38;5;124m\"\u001b[39m)\n\u001b[0;32m    231\u001b[0m     \u001b[38;5;28;01mraise\u001b[39;00m exception_class(message, screen, stacktrace, alert_text)  \u001b[38;5;66;03m# type: ignore[call-arg]  # mypy is not smart enough here\u001b[39;00m\n\u001b[1;32m--> 232\u001b[0m \u001b[38;5;28;01mraise\u001b[39;00m exception_class(message, screen, stacktrace)\n",
      "\u001b[1;31mNoSuchElementException\u001b[0m: Message: no such element: Unable to locate element: {\"method\":\"css selector\",\"selector\":\"p.name > strong\"}\n  (Session info: chrome=134.0.6998.89); For documentation on this error, please visit: https://www.selenium.dev/documentation/webdriver/troubleshooting/errors#no-such-element-exception\nStacktrace:\n\tGetHandleVerifier [0x00007FF71713FE45+26629]\n\t(No symbol) [0x00007FF7170A6010]\n\t(No symbol) [0x00007FF716F3931A]\n\t(No symbol) [0x00007FF716F8F8E7]\n\t(No symbol) [0x00007FF716F8FB1C]\n\t(No symbol) [0x00007FF716F8228C]\n\t(No symbol) [0x00007FF716FB7AEF]\n\t(No symbol) [0x00007FF716F82156]\n\t(No symbol) [0x00007FF716FB7CC0]\n\t(No symbol) [0x00007FF716FE0169]\n\t(No symbol) [0x00007FF716FB7883]\n\t(No symbol) [0x00007FF716F80550]\n\t(No symbol) [0x00007FF716F81803]\n\tGetHandleVerifier [0x00007FF7174972BD+3529853]\n\tGetHandleVerifier [0x00007FF7174ADA22+3621858]\n\tGetHandleVerifier [0x00007FF7174A24D3+3575443]\n\tGetHandleVerifier [0x00007FF71720B77A+860474]\n\t(No symbol) [0x00007FF7170B088F]\n\t(No symbol) [0x00007FF7170ACBC4]\n\t(No symbol) [0x00007FF7170ACD66]\n\t(No symbol) [0x00007FF71709C2C9]\n\tBaseThreadInitThunk [0x00007FFE5DF67374+20]\n\tRtlUserThreadStart [0x00007FFE5E21CC91+33]\n"
     ]
    }
   ],
   "source": [
    "def CoffeeBean_store():\n",
    "    url = 'https://www.coffeebeankorea.com/store/store.asp'\n",
    "    driver = webdriver.Chrome()\n",
    "    driver.get(url)\n",
    "    driver.implicitly_wait(10)\n",
    "\n",
    "    result = []  # 결과를 저장할 리스트 초기화\n",
    "\n",
    "    # 여러 요소를 찾기 위해 find_elements 사용\n",
    "    store_list = driver.find_elements(\"css selector\", \"#storeListUL > li\")\n",
    "    for store in store_list:\n",
    "        name = store.find_element(\"css selector\", \"p.name > span\").text\n",
    "        dis = store.find_element(\"css selector\", \"p.name > strong\").text\n",
    "        name = name.replace(dis, '')\n",
    "        address = store.find_element(\"css selector\", \"p.address > span\").text\n",
    "        tel = store.find_element(\"css selector\", \"p.tel > a\").get_attribute('href').replace('tel:', '')\n",
    "        print(name, dis, address, tel)\n",
    "        result.append((name, dis, address, tel))\n",
    "    \n",
    "    driver.close()\n",
    "    return result\n",
    "\n",
    "# 함수 호출\n",
    "result = CoffeeBean_store()\n",
    "\n",
    "# 결과 출력\n",
    "print(result)"
   ]
  }
 ],
 "metadata": {
  "kernelspec": {
   "display_name": "base",
   "language": "python",
   "name": "python3"
  },
  "language_info": {
   "codemirror_mode": {
    "name": "ipython",
    "version": 3
   },
   "file_extension": ".py",
   "mimetype": "text/x-python",
   "name": "python",
   "nbconvert_exporter": "python",
   "pygments_lexer": "ipython3",
   "version": "3.12.7"
  }
 },
 "nbformat": 4,
 "nbformat_minor": 2
}
