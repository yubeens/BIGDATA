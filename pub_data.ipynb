{
 "cells": [
  {
   "cell_type": "code",
   "execution_count": 197,
   "metadata": {},
   "outputs": [],
   "source": [
    "import urllib.request as req\n",
    "from bs4 import BeautifulSoup as bs"
   ]
  },
  {
   "cell_type": "code",
   "execution_count": 198,
   "metadata": {},
   "outputs": [],
   "source": [
    "key='3kVMvhnJRPIp4Hjn8vQbvKIju8yrIizHMNtQZeSVn%2BTCnOcNtox%2FAFuoLcWkqwhZX3UewHHp9h3KHGiaDeX0pg%3D%3D'"
   ]
  },
  {
   "cell_type": "code",
   "execution_count": 199,
   "metadata": {},
   "outputs": [
    {
     "data": {
      "text/plain": [
       "('data/festival.xml', <http.client.HTTPMessage at 0x1c588187ef0>)"
      ]
     },
     "execution_count": 199,
     "metadata": {},
     "output_type": "execute_result"
    }
   ],
   "source": [
    "url='http://apis.data.go.kr/6260000/FestivalService/getFestivalKr'\n",
    "prams=f'?ServiceKey={key}&pageNum=1&numOfRows=10'\n",
    "\n",
    "save_path='data/festival.xml'\n",
    "req.urlretrieve(url+prams,save_path)"
   ]
  },
  {
   "cell_type": "code",
   "execution_count": 200,
   "metadata": {},
   "outputs": [
    {
     "name": "stdout",
     "output_type": "stream",
     "text": [
      "10\n",
      "('부산하면 여름, 여름하면 부산바다축제!', '', '도시철도 1호선 다대포해수욕장역 2번 출구 도보 8분\\n버스 11, 2, 3, 338, 96, 96-1, 1000 ', '다대포 해수욕장 일원 (2024년 다대포 일원화 개최)', 'http://www.bfo.or.kr/festival_sea/info/01.asp?MENUDIV=1', 'https://www.visitbusan.net/uploadImgs/files/cntnts/20191213191711585_thumbL')\n",
      "('태종대에서 만난 오색찬란 수국의 매력', '부산광역시 영도구 전망로 119', '버스 186, 30, 66, 8, 88, 101, 1006 태종대(태종대온천) 하차\\n주차 태종대유원지 주차장 (유료)', '태종대, 태종사', '', 'https://www.visitbusan.net/uploadImgs/files/cntnts/20191222160520749_thumbL')\n",
      "('맥주를 사랑한다면 센텀맥주축제', '부산광역시 해운대구 수영강변대로 120', '도시철도 2호선 센텀시티역 12번 출구 도보 12분\\n버스 115, 181, 307, 해운대구3-1, 해운대구3-2 시청자미디어센터‧KNN방송국 하차 도보 8분', '센텀맥주축제', 'http://www.beerfestival.co.kr', 'https://www.visitbusan.net/uploadImgs/files/cntnts/20191227114742493_thumbL')\n",
      "('문화로 노닐다 금정산성축제', '부산광역시 금정구 산성로 501-2', '[개막행사장]\\n도시철도 1호선 장전역 1,2번 출구 온천천 방향 도보 이동\\n버스 16, 29, 49, 51, 77, 80, 100, 100-1, 110, 111-1, 121, 131, 144, 301, 1008 장전역 하차', '금정산성축제', 'http://www.gjfac.org/gjfac/main.php', 'https://www.visitbusan.net/uploadImgs/files/cntnts/20191227115551778_thumbL')\n",
      "('구포나루의 추억과 낭만 낙동강구포나루축제', '부산광역시 북구 화명생태공원 연꽃단지 일원', '도시철도 2호선 수정역 3번 출구 화명생태공원\\n버스 15, 59, 111, 121, 126, 1009, 북구3, 북구7, 금정구1 수정역 하차', '낙동강구포나루축제', 'https://www.bsbukgu.go.kr/tour/index.bsbukgu?menuCd=DOM_000000402006001000', 'https://www.visitbusan.net/uploadImgs/files/cntnts/20191227120157384_thumbL')\n",
      "('아름다운 부산 밤하늘의 하모니, 부산불꽃축제', '부산광역시 수영구 광안해변로 219', '도시철도 2호선 광안역 5번 출구 도보 12분\\n버스 41, 42 광안리해수욕장 하차 도보 5분\\n주차 인근 공영주차장(유료)', '부산불꽃축제', 'https://www.bfo.or.kr/festival/info/01.asp?MENUDIV=1', 'https://www.visitbusan.net/uploadImgs/files/cntnts/20241022165920388_thumbL')\n",
      "('오색찬란 연등터널 삼광사 연등축제', '부산광역시 부산진구 초읍천로43번길 77', '도시철도 2호선 서면역 9번 출구 영광도서 맞은편 정류장 → 마을버스 부산진구15 환승 → 삼광사 경내 하차\\n버스 44, 54, 63, 81, 133 삼광사 입구 하차\\n주차 삼광사 주차장(무료)', '삼광사 연등축제', 'http://www.samkwangsa.or.kr/', 'https://www.visitbusan.net/uploadImgs/files/cntnts/20230503134701548_thumbL')\n",
      "('제9회 부산원도심활성화축제 택슐랭', '부산광역시 중구, 서구, 동구, 영도구 일원', '', '부산원도심활성화축제', 'https://www.bfo.or.kr/festival_city/info/01.asp?MENUDIV=1', 'https://www.visitbusan.net/uploadImgs/files/cntnts/20191230190825680_thumbL')\n",
      "('모래의 변신은 예술, 해운대모래축제를 가다', '해운대해수욕장, 해운대광장(구남로) 일원', '도시철도 2호선 해운대역 3,5번 출구 도보 이동\\n버스 139, 307, 1003 해운대해수욕장 하차\\n주차 해운대해수욕장 공영주차장', '해운대모래축제', 'https://www.instagram.com/sandfestival_haeundae/', 'https://www.visitbusan.net/uploadImgs/files/cntnts/20230522152952371_thumbL')\n",
      "('해양에 대한 모든 것, 부산항축제', '부산항국제여객터미널, 국립해양박물관 일원', '부산항국제여객터미널\\n버스 5-1, 1004 부산항국제여객터미널 하차\\n\\n국립해양박물관\\n버스 66, 186 국립해양박물관 하차', '부산항축제', 'https://www.bfo.or.kr/festival_port/info/01.asp?MENUDIV=1', 'https://www.visitbusan.net/uploadImgs/files/cntnts/20191230191940029_thumbL')\n"
     ]
    }
   ],
   "source": [
    "#xml 파일 열기 및 파싱\n",
    "xml_doc=open(save_path,'r',encoding='utf-8')\n",
    "soup=bs(xml_doc,'xml')\n",
    "items=soup.find_all('item')\n",
    "print(len(items))\n",
    "item_list=[]\n",
    "\n",
    "#주소, 내용, 교통정보, 축제기간, 축제메인장소, 홈페이지, 이미지다운\n",
    "for item in items:\n",
    "    title=item.find('TITLE').text\n",
    "    addr1=item.find('ADDR1').text\n",
    "    trfc_info=item.find('TRFC_INFO').text\n",
    "    main_place=item.find('MAIN_PLACE').text\n",
    "    homepage_url=item.find('HOMEPAGE_URL').text\n",
    "    img_src=item.find('MAIN_IMG_THUMB').text\n",
    "    path=f'data/festival_img/{title}.png'\n",
    "    req.urlretrieve(img_src,path)\n",
    "    data=(title,addr1,trfc_info,main_place,homepage_url,img_src)\n",
    "    print(data)\n",
    "    item_list.append(data)"
   ]
  },
  {
   "cell_type": "code",
   "execution_count": 201,
   "metadata": {},
   "outputs": [
    {
     "data": {
      "text/html": [
       "<div>\n",
       "<style scoped>\n",
       "    .dataframe tbody tr th:only-of-type {\n",
       "        vertical-align: middle;\n",
       "    }\n",
       "\n",
       "    .dataframe tbody tr th {\n",
       "        vertical-align: top;\n",
       "    }\n",
       "\n",
       "    .dataframe thead th {\n",
       "        text-align: right;\n",
       "    }\n",
       "</style>\n",
       "<table border=\"1\" class=\"dataframe\">\n",
       "  <thead>\n",
       "    <tr style=\"text-align: right;\">\n",
       "      <th></th>\n",
       "      <th>title</th>\n",
       "      <th>addr1</th>\n",
       "      <th>trfc_info</th>\n",
       "      <th>main_place</th>\n",
       "      <th>homepage_url</th>\n",
       "      <th>img_src</th>\n",
       "    </tr>\n",
       "  </thead>\n",
       "  <tbody>\n",
       "    <tr>\n",
       "      <th>0</th>\n",
       "      <td>부산하면 여름, 여름하면 부산바다축제!</td>\n",
       "      <td></td>\n",
       "      <td>도시철도 1호선 다대포해수욕장역 2번 출구 도보 8분\\n버스 11, 2, 3, 33...</td>\n",
       "      <td>다대포 해수욕장 일원 (2024년 다대포 일원화 개최)</td>\n",
       "      <td>http://www.bfo.or.kr/festival_sea/info/01.asp?...</td>\n",
       "      <td>https://www.visitbusan.net/uploadImgs/files/cn...</td>\n",
       "    </tr>\n",
       "    <tr>\n",
       "      <th>1</th>\n",
       "      <td>태종대에서 만난 오색찬란 수국의 매력</td>\n",
       "      <td>부산광역시 영도구 전망로 119</td>\n",
       "      <td>버스 186, 30, 66, 8, 88, 101, 1006 태종대(태종대온천) 하차...</td>\n",
       "      <td>태종대, 태종사</td>\n",
       "      <td></td>\n",
       "      <td>https://www.visitbusan.net/uploadImgs/files/cn...</td>\n",
       "    </tr>\n",
       "    <tr>\n",
       "      <th>2</th>\n",
       "      <td>맥주를 사랑한다면 센텀맥주축제</td>\n",
       "      <td>부산광역시 해운대구 수영강변대로 120</td>\n",
       "      <td>도시철도 2호선 센텀시티역 12번 출구 도보 12분\\n버스 115, 181, 307...</td>\n",
       "      <td>센텀맥주축제</td>\n",
       "      <td>http://www.beerfestival.co.kr</td>\n",
       "      <td>https://www.visitbusan.net/uploadImgs/files/cn...</td>\n",
       "    </tr>\n",
       "    <tr>\n",
       "      <th>3</th>\n",
       "      <td>문화로 노닐다 금정산성축제</td>\n",
       "      <td>부산광역시 금정구 산성로 501-2</td>\n",
       "      <td>[개막행사장]\\n도시철도 1호선 장전역 1,2번 출구 온천천 방향 도보 이동\\n버스...</td>\n",
       "      <td>금정산성축제</td>\n",
       "      <td>http://www.gjfac.org/gjfac/main.php</td>\n",
       "      <td>https://www.visitbusan.net/uploadImgs/files/cn...</td>\n",
       "    </tr>\n",
       "    <tr>\n",
       "      <th>4</th>\n",
       "      <td>구포나루의 추억과 낭만 낙동강구포나루축제</td>\n",
       "      <td>부산광역시 북구 화명생태공원 연꽃단지 일원</td>\n",
       "      <td>도시철도 2호선 수정역 3번 출구 화명생태공원\\n버스 15, 59, 111, 121...</td>\n",
       "      <td>낙동강구포나루축제</td>\n",
       "      <td>https://www.bsbukgu.go.kr/tour/index.bsbukgu?m...</td>\n",
       "      <td>https://www.visitbusan.net/uploadImgs/files/cn...</td>\n",
       "    </tr>\n",
       "    <tr>\n",
       "      <th>5</th>\n",
       "      <td>아름다운 부산 밤하늘의 하모니, 부산불꽃축제</td>\n",
       "      <td>부산광역시 수영구 광안해변로 219</td>\n",
       "      <td>도시철도 2호선 광안역 5번 출구 도보 12분\\n버스 41, 42 광안리해수욕장 하...</td>\n",
       "      <td>부산불꽃축제</td>\n",
       "      <td>https://www.bfo.or.kr/festival/info/01.asp?MEN...</td>\n",
       "      <td>https://www.visitbusan.net/uploadImgs/files/cn...</td>\n",
       "    </tr>\n",
       "    <tr>\n",
       "      <th>6</th>\n",
       "      <td>오색찬란 연등터널 삼광사 연등축제</td>\n",
       "      <td>부산광역시 부산진구 초읍천로43번길 77</td>\n",
       "      <td>도시철도 2호선 서면역 9번 출구 영광도서 맞은편 정류장 → 마을버스 부산진구15 ...</td>\n",
       "      <td>삼광사 연등축제</td>\n",
       "      <td>http://www.samkwangsa.or.kr/</td>\n",
       "      <td>https://www.visitbusan.net/uploadImgs/files/cn...</td>\n",
       "    </tr>\n",
       "    <tr>\n",
       "      <th>7</th>\n",
       "      <td>제9회 부산원도심활성화축제 택슐랭</td>\n",
       "      <td>부산광역시 중구, 서구, 동구, 영도구 일원</td>\n",
       "      <td></td>\n",
       "      <td>부산원도심활성화축제</td>\n",
       "      <td>https://www.bfo.or.kr/festival_city/info/01.as...</td>\n",
       "      <td>https://www.visitbusan.net/uploadImgs/files/cn...</td>\n",
       "    </tr>\n",
       "    <tr>\n",
       "      <th>8</th>\n",
       "      <td>모래의 변신은 예술, 해운대모래축제를 가다</td>\n",
       "      <td>해운대해수욕장, 해운대광장(구남로) 일원</td>\n",
       "      <td>도시철도 2호선 해운대역 3,5번 출구 도보 이동\\n버스 139, 307, 1003...</td>\n",
       "      <td>해운대모래축제</td>\n",
       "      <td>https://www.instagram.com/sandfestival_haeundae/</td>\n",
       "      <td>https://www.visitbusan.net/uploadImgs/files/cn...</td>\n",
       "    </tr>\n",
       "    <tr>\n",
       "      <th>9</th>\n",
       "      <td>해양에 대한 모든 것, 부산항축제</td>\n",
       "      <td>부산항국제여객터미널, 국립해양박물관 일원</td>\n",
       "      <td>부산항국제여객터미널\\n버스 5-1, 1004 부산항국제여객터미널 하차\\n\\n국립해양...</td>\n",
       "      <td>부산항축제</td>\n",
       "      <td>https://www.bfo.or.kr/festival_port/info/01.as...</td>\n",
       "      <td>https://www.visitbusan.net/uploadImgs/files/cn...</td>\n",
       "    </tr>\n",
       "  </tbody>\n",
       "</table>\n",
       "</div>"
      ],
      "text/plain": [
       "                      title                     addr1  \\\n",
       "0     부산하면 여름, 여름하면 부산바다축제!                             \n",
       "1      태종대에서 만난 오색찬란 수국의 매력         부산광역시 영도구 전망로 119   \n",
       "2          맥주를 사랑한다면 센텀맥주축제     부산광역시 해운대구 수영강변대로 120   \n",
       "3            문화로 노닐다 금정산성축제       부산광역시 금정구 산성로 501-2   \n",
       "4    구포나루의 추억과 낭만 낙동강구포나루축제   부산광역시 북구 화명생태공원 연꽃단지 일원   \n",
       "5  아름다운 부산 밤하늘의 하모니, 부산불꽃축제       부산광역시 수영구 광안해변로 219   \n",
       "6        오색찬란 연등터널 삼광사 연등축제    부산광역시 부산진구 초읍천로43번길 77   \n",
       "7        제9회 부산원도심활성화축제 택슐랭  부산광역시 중구, 서구, 동구, 영도구 일원   \n",
       "8   모래의 변신은 예술, 해운대모래축제를 가다    해운대해수욕장, 해운대광장(구남로) 일원   \n",
       "9        해양에 대한 모든 것, 부산항축제    부산항국제여객터미널, 국립해양박물관 일원   \n",
       "\n",
       "                                           trfc_info  \\\n",
       "0  도시철도 1호선 다대포해수욕장역 2번 출구 도보 8분\\n버스 11, 2, 3, 33...   \n",
       "1  버스 186, 30, 66, 8, 88, 101, 1006 태종대(태종대온천) 하차...   \n",
       "2  도시철도 2호선 센텀시티역 12번 출구 도보 12분\\n버스 115, 181, 307...   \n",
       "3  [개막행사장]\\n도시철도 1호선 장전역 1,2번 출구 온천천 방향 도보 이동\\n버스...   \n",
       "4  도시철도 2호선 수정역 3번 출구 화명생태공원\\n버스 15, 59, 111, 121...   \n",
       "5  도시철도 2호선 광안역 5번 출구 도보 12분\\n버스 41, 42 광안리해수욕장 하...   \n",
       "6  도시철도 2호선 서면역 9번 출구 영광도서 맞은편 정류장 → 마을버스 부산진구15 ...   \n",
       "7                                                      \n",
       "8  도시철도 2호선 해운대역 3,5번 출구 도보 이동\\n버스 139, 307, 1003...   \n",
       "9  부산항국제여객터미널\\n버스 5-1, 1004 부산항국제여객터미널 하차\\n\\n국립해양...   \n",
       "\n",
       "                       main_place  \\\n",
       "0  다대포 해수욕장 일원 (2024년 다대포 일원화 개최)   \n",
       "1                        태종대, 태종사   \n",
       "2                          센텀맥주축제   \n",
       "3                          금정산성축제   \n",
       "4                       낙동강구포나루축제   \n",
       "5                          부산불꽃축제   \n",
       "6                        삼광사 연등축제   \n",
       "7                      부산원도심활성화축제   \n",
       "8                         해운대모래축제   \n",
       "9                           부산항축제   \n",
       "\n",
       "                                        homepage_url  \\\n",
       "0  http://www.bfo.or.kr/festival_sea/info/01.asp?...   \n",
       "1                                                      \n",
       "2                      http://www.beerfestival.co.kr   \n",
       "3                http://www.gjfac.org/gjfac/main.php   \n",
       "4  https://www.bsbukgu.go.kr/tour/index.bsbukgu?m...   \n",
       "5  https://www.bfo.or.kr/festival/info/01.asp?MEN...   \n",
       "6                       http://www.samkwangsa.or.kr/   \n",
       "7  https://www.bfo.or.kr/festival_city/info/01.as...   \n",
       "8   https://www.instagram.com/sandfestival_haeundae/   \n",
       "9  https://www.bfo.or.kr/festival_port/info/01.as...   \n",
       "\n",
       "                                             img_src  \n",
       "0  https://www.visitbusan.net/uploadImgs/files/cn...  \n",
       "1  https://www.visitbusan.net/uploadImgs/files/cn...  \n",
       "2  https://www.visitbusan.net/uploadImgs/files/cn...  \n",
       "3  https://www.visitbusan.net/uploadImgs/files/cn...  \n",
       "4  https://www.visitbusan.net/uploadImgs/files/cn...  \n",
       "5  https://www.visitbusan.net/uploadImgs/files/cn...  \n",
       "6  https://www.visitbusan.net/uploadImgs/files/cn...  \n",
       "7  https://www.visitbusan.net/uploadImgs/files/cn...  \n",
       "8  https://www.visitbusan.net/uploadImgs/files/cn...  \n",
       "9  https://www.visitbusan.net/uploadImgs/files/cn...  "
      ]
     },
     "execution_count": 201,
     "metadata": {},
     "output_type": "execute_result"
    }
   ],
   "source": [
    "import pandas as pd\n",
    "df=pd.DataFrame(item_list,columns=['title','addr1','trfc_info','main_place','homepage_url','img_src'])\n",
    "df"
   ]
  },
  {
   "cell_type": "code",
   "execution_count": 202,
   "metadata": {},
   "outputs": [],
   "source": [
    "#csv파일 및 데이터베이스에 저장\n",
    "\n",
    "import pymysql\n",
    "conn=pymysql.connect(\n",
    "    host='localhost',\n",
    "    user='yubeen',\n",
    "    passwd='1234',\n",
    "    db='pydb',\n",
    "    charset='utf8'\n",
    ")\n",
    "cursor=conn.cursor()\n",
    "sql=\"insert into tbl_festival(title,addr1,trfc_info,main_place,homepage_url,img_src) values(%s,%s,%s,%s,%s,%s)\"\n",
    "cursor.executemany(sql,item_list)\n",
    "conn.commit()\n",
    "conn.close()"
   ]
  },
  {
   "cell_type": "markdown",
   "metadata": {},
   "source": []
  },
  {
   "cell_type": "code",
   "execution_count": null,
   "metadata": {},
   "outputs": [],
   "source": []
  },
  {
   "cell_type": "code",
   "execution_count": 203,
   "metadata": {},
   "outputs": [
    {
     "data": {
      "text/plain": [
       "('data/festival.json', <http.client.HTTPMessage at 0x1c58762fe00>)"
      ]
     },
     "execution_count": 203,
     "metadata": {},
     "output_type": "execute_result"
    }
   ],
   "source": [
    "url='http://apis.data.go.kr/6260000/FestivalService/getFestivalKr'\n",
    "prams=f'?ServiceKey={key}&pageNum=1&numOfRows=10&resultType=json'\n",
    "\n",
    "save_path2='data/festival.json'\n",
    "req.urlretrieve(url+prams, save_path2)"
   ]
  },
  {
   "cell_type": "code",
   "execution_count": 204,
   "metadata": {},
   "outputs": [
    {
     "name": "stdout",
     "output_type": "stream",
     "text": [
      "부산하면 여름, 여름하면 부산바다축제! \n",
      "태종대에서 만난 오색찬란 수국의 매력 부산광역시 영도구 전망로 119\n",
      "맥주를 사랑한다면 센텀맥주축제 부산광역시 해운대구 수영강변대로 120\n",
      "문화로 노닐다 금정산성축제 부산광역시 금정구 산성로 501-2\n",
      "구포나루의 추억과 낭만 낙동강구포나루축제 부산광역시 북구 화명생태공원 연꽃단지 일원\n",
      "아름다운 부산 밤하늘의 하모니, 부산불꽃축제 부산광역시 수영구 광안해변로 219\n",
      "오색찬란 연등터널 삼광사 연등축제 부산광역시 부산진구 초읍천로43번길 77\n",
      "제9회 부산원도심활성화축제 택슐랭 부산광역시 중구, 서구, 동구, 영도구 일원\n",
      "모래의 변신은 예술, 해운대모래축제를 가다 해운대해수욕장, 해운대광장(구남로) 일원\n",
      "해양에 대한 모든 것, 부산항축제 부산항국제여객터미널, 국립해양박물관 일원\n"
     ]
    }
   ],
   "source": [
    "import json\n",
    "with open('data/festival.json','r',encoding='utf-8') as f:\n",
    "    data=json.load(f) #json문서, 파일을 json으로 파싱함\n",
    "    items=data['getFestivalKr']['item']\n",
    "    for item in items:\n",
    "        title=item['TITLE']\n",
    "        addr=item['ADDR1']\n",
    "        print(title,addr)"
   ]
  },
  {
   "cell_type": "code",
   "execution_count": 205,
   "metadata": {},
   "outputs": [
    {
     "name": "stdout",
     "output_type": "stream",
     "text": [
      "{\"getFestivalKr\":{\"header\":{\"code\":\"00\",\"message\":\"NORMAL_CODE\"},\"item\":[{\"UC_SEQ\":71,\"MAIN_TITLE\":\"부산바다축제(한,영, 중간,중번,일)\",\"GUGUN_NM\":\"수영구\",\"LAT\":35.151604,\"LNG\":129.11713,\"PLACE\":\"부산바다축제, 다대포\",\"TITLE\":\"부산하면 여름, 여름하면 부산바다축제!\",\"SUBTITLE\":\"축제의 바다 속으로\",\"MAIN_PLACE\":\"다대포 해수욕장 일원 (2024년 다대포 일원화 개최)\",\"ADDR1\":\"\",\"ADDR2\":\"\",\"CNTCT_TEL\":\"051-713-5000\",\"HOMEPAGE_URL\":\"http://www.bfo.or.kr/festival_sea/info/01.asp?MENUDIV=1\",\"TRFC_INFO\":\"도시철도 1호선 다대포해수욕장역 2번 출구 도보 8분\\n버스 11, 2, 3, 338, 96, 96-1, 1000 \",\"USAGE_DAY\":\"\",\"USAGE_DAY_WEEK_AND_TIME\":\"2024. 07. 26.(금) ~ 07. 28.(일)\",\"USAGE_AMOUNT\":\"\",\"MAIN_IMG_NORMAL\":\"https://www.visitbusan.net/uploadImgs/files/cntnts/20191213191711585_ttiel\",\"MAIN_IMG_THUMB\":\"https://www.visitbusan.net/uploadImgs/files/cntnts/20191213191711585_thumbL\",\"ITEMCNTNTS\":\"\\n타오르는 태양, 시원한 바다, 금빛 백사장, 화려한 네온사인, 신나는 음악!\\n이 모든 것을 한 번에 즐길 수 있는 부산의 대표 여름축제, 부산바다축제를 소개한다.\\n부산바다축제는 해마다 여름이 되면 부산 시내  해수욕장에서 열린다.\\n축제는 다양한 프로그램으로 사람들을 맞이하는데 그 중에서도 메인 행사는 첫날의 개막파티이다.\\n매해 새로운 모습을 추구하기에 지난 회차와는 또 다른 행사를 즐길 수 있다.\\n\\n\\n\\n개막파티를 놓친 이들이라도 매일 새롭게 열리는 참여행사를 통해 축제를 즐길 수 있다.\\n부산바다축제는 음악, 춤, 먹거리 등 모든 것을 즐길 수 있다.\\n\\n특히나 뜨거운 여름밤을 달구기에 춤만 한 것도 없다. 해변에서 펼쳐지는 댄스파티 현장은 보는 것만으로도 몸치에서 탈출할 수 있을 것만 같다. 국‧내외 댄스 동호인들의 열정적인 스윙, 살사, 줌바 댄스를 직접 따라하다 보면 몸이 저절로 박자를 즐기고 있다.\\n\\n다양하고 신나는 공연은 계속 이어진다.\\n부산 바다의 조용한 정취를 좋아하는 이들에게는 열린바다 열린음악회를, 미래의 힙합 전사들에게는 줌바다와 해변살사댄스 페스티벌을, 다대포 낙조의 낭만을 경험하고자 한다면 다대포 포크樂 페스티벌을 추천한다. 최고의 뮤지션들이 밤바다를 배경으로 연주하는 음악과 그들의 노랫소리는 귀를 호강시켜주기에 충분하니 말이다.\\n더불어 건전한 장애인 놀이문화와 다양한 스포츠행사, 레크레이션이 진행되는 장애인 한바다축제, 부산 청소년 바다축제도 열려 남녀노소, 장애인‧비장애인 할 것 없이 누구나 즐길 수 있는 부산바다축제임을 보여준다.\\n부산의 바다가 간직한 매력은 어디까지일까.\\n밤의 풍경, 음악, 젊음, 열정.\\n부산의 여름을 생각했을 때 떠오르는 많은 말들이 있지만 부산바다축제야말로 그 모든 것을 다 담고 있는 종합선물세트라고 할 수 있을 것이다.\\n\\n무엇을 생각하든 그 이상을 만날 수 있는 축제.\\n이 축제만으로 여름의 부산을 찾을 이유는 충분하지 않을까.\\n\\n**부산바다축제**\\n2024. 07. 26.(금) ~ 07. 28.(일)\\n*풍랑주의보로 인한 다대 불꽃쇼 일정 변경 안내\\n2024. 07. 26.(금) 20시 → 07. 28.(일) 20시 30분 예정\\n\\n\",\"MIDDLE_SIZE_RM1\":\"장애인 한바다축제 수어통역 / (사)부산장애인총연합회 051-863-0650\"},{\"UC_SEQ\":253,\"MAIN_TITLE\":\"수국축제(한,영,중간,중번,일)\",\"GUGUN_NM\":\"영도구\",\"LAT\":35.05602,\"LNG\":129.08812,\"PLACE\":\"수국축제, 태종대, 태종사\",\"TITLE\":\"태종대에서 만난 오색찬란 수국의 매력\",\"SUBTITLE\":\"부산 수국꽃문화축제를 가다\",\"MAIN_PLACE\":\"태종대, 태종사\",\"ADDR1\":\"부산광역시 영도구 전망로 119\",\"ADDR2\":\"\",\"CNTCT_TEL\":\"051-419-4061~6\",\"HOMEPAGE_URL\":\"\",\"TRFC_INFO\":\"버스 186, 30, 66, 8, 88, 101, 1006 태종대(태종대온천) 하차\\n주차 태종대유원지 주차장 (유료)\",\"USAGE_DAY\":\"\",\"USAGE_DAY_WEEK_AND_TIME\":\"2024년도 수국꽃문화축제는 개최 취소되었습니다.\",\"USAGE_AMOUNT\":\"무료\",\"MAIN_IMG_NORMAL\":\"https://www.visitbusan.net/uploadImgs/files/cntnts/20191222160520749_ttiel\",\"MAIN_IMG_THUMB\":\"https://www.visitbusan.net/uploadImgs/files/cntnts/20191222160520749_thumbL\",\"ITEMCNTNTS\":\"** 2024년 수국축제는 열리지 않습니다.\\n\\n본격적인 휴가철이 시작되기 전, 초여름의 부산에서 반드시 만나야할 축제가 있다.\\n태종대에 위치한 사찰 태종사 일대에서 매년 6월 말 ~ 7월 초에 열리는 수국꽃문화축제가 바로 그 주인공이다. 태종대의 해안절경을 만끽하며 오색찬란한 수국을 제대로 즐길 수 있는 관광코스로도 유명하다.\\n\\n수국꽃문화축제가 열리는 태종사로 가는 방법은 두 가지다. 태종대를 즐기며 태종사까지 걷는 도보형, 그리고 다누비열차를 이용하는 다누비형이 있다. 수국 축제를 빨리 만나고 싶다면 다누비 열차를 타고 태종사 입구에 내려 아름다운 수국꽃길 걸으며 태종사로 오르면 된다. 걷기를 좋아하는 방문자라면 산책길을 따라 태종사까지 여유롭게 걸어보는 것도 좋겠다. 상쾌한 바닷바람 맞으며 천천히 걷다보면 수국꽃 흐트러진 태종사 입구가 여행자를 반긴다.\\n\\n태종사의 수국들은 주지스님께서 40여 년 동안 심고 가꾸어온 것이라 한다. 스님께서는 다양한 수국 모종을 구하기 위해 세계 곳곳을 돌며 발품을 팔았다고 한다. 현재 태종사 일대 수국의 종류가 30여 종, 총 5000여 그루에 달한다고 하니 그 규모가 엄청나다. 태종사 수국의 장관을 시민들과 함께 나누고픈 스님의 바람을 담아 2006년부터 수국꽃문화축제가 시작되었다.\\n\\n한국의 대표적인 수국 군락지로 유명한 태종사 일대는 매년 축제 기간이 되면 수국의 향연을 즐기려는 많은 사람들로 북적인다. 여기저기 터지는 셔터소리와 조용한 웃음소리, 그리고 활짝 핀 수국이 어우러져 또 다른 광경을 선사한다. 다채로운 색을 간직한 수국은 그 색깔에 따라 꽃말도 여러 개를 가지고 있다. 분홍색은 ‘진심 & 처녀의 꿈’, 청색은 ‘냉정’, 흰색은 ‘변덕’이라고 하니 다채로운 색깔만큼이나 다양한 꽃말이 재밌다. 축제 기간 중에는 냉면을 무료로 시식하는 ‘꽃밭냉면시식회’를 비롯, ‘꽃밭포토존’, ‘꽃밭버스킹’, ‘힐링숲길 산책로체험’ 등 다양한 프로그램이 준비되어 있으므로 일정표를 꼭 확인하여 축제를 알차게 즐겨 봐도 좋을 것이다.\\n\\n사랑하는 사람의 손을 잡고, 시원한 여름바람 맞으며 즐기는 오색찬란한 수국꽃밭. 작은 모종을 하나 둘 심어온 정성스러운 손길. 그 손길이 시간을 만나 이루어낸 놀라운 기적을 직접 만나보자.\\n\\n*2024년도 수국꽃문화축제는 개최 취소되었습니다.*\\n\\n\\n\",\"MIDDLE_SIZE_RM1\":\"장애인 화장실, 장애인 주차장, 보조견 동반가능, 휠체어 대여가능, 다누비 순환열차 휠체어리프트 장착 차량 운행\"},{\"UC_SEQ\":329,\"MAIN_TITLE\":\"센텀맥주축제(한,영,중간,중번,일)\",\"GUGUN_NM\":\"해운대구\",\"LAT\":35.172085,\"LNG\":129.12915,\"PLACE\":\"센텀맥주축제\",\"TITLE\":\"맥주를 사랑한다면 센텀맥주축제\",\"SUBTITLE\":\"\",\"MAIN_PLACE\":\"센텀맥주축제\",\"ADDR1\":\"부산광역시 해운대구 수영강변대로 120\",\"ADDR2\":\"\",\"CNTCT_TEL\":\"051-850-9344\",\"HOMEPAGE_URL\":\"http://www.beerfestival.co.kr\",\"TRFC_INFO\":\"도시철도 2호선 센텀시티역 12번 출구 도보 12분\\n버스 115, 181, 307, 해운대구3-1, 해운대구3-2 시청자미디어센터‧KNN방송국 하차 도보 8분\",\"USAGE_DAY\":\"\",\"USAGE_DAY_WEEK_AND_TIME\":\"2024.5.30.(목) ~ 6.9.(일)\",\"USAGE_AMOUNT\":\"성인 15,000원(맥주 무제한 제공)\\n미성년자 5,000원(보호자동반 입장가능)\",\"MAIN_IMG_NORMAL\":\"https://www.visitbusan.net/uploadImgs/files/cntnts/20191227114742493_ttiel\",\"MAIN_IMG_THUMB\":\"https://www.visitbusan.net/uploadImgs/files/cntnts/20191227114742493_thumbL\",\"ITEMCNTNTS\":\"\\n도심 속에서 젊음의 열기를 대방출하라!\\n\\n회를 더할수록 뜨거워지는 센텀맥주축제는 동서양 남녀노소 장벽 없이 모두 한마음으로 마음껏 즐길 수 있는 축제의 장이 되었다. 페이스페인팅으로 참가 분위기는 업, 생맥주 무료 시음으로 기분 또한 업.\\n다양한 이벤트와 EDM파티는 참가한 모든 이들을 충분히 흥분의 도가니 속으로 빠져들게 한다. 그동안 쌓인 스트레스, 센텀맥주축제에서 시원하게 날려버리자.\\n\\n**센텀맥주축제**\\n2024.5.30.(목) ~ 6.9.(일) \\n\\n\\n\",\"MIDDLE_SIZE_RM1\":\"\"},{\"UC_SEQ\":330,\"MAIN_TITLE\":\"금정산성축제(한,영,중간,중번,일)\",\"GUGUN_NM\":\"금정구\",\"LAT\":35.23809,\"LNG\":129.08815,\"PLACE\":\"부산금정산성축제, 부산축제\",\"TITLE\":\"문화로 노닐다 금정산성축제\",\"SUBTITLE\":\"\",\"MAIN_PLACE\":\"금정산성축제\",\"ADDR1\":\"부산광역시 금정구 산성로 501-2\",\"ADDR2\":\"\",\"CNTCT_TEL\":\"051-715-6884\",\"HOMEPAGE_URL\":\"http://www.gjfac.org/gjfac/main.php\",\"TRFC_INFO\":\"[개막행사장]\\n도시철도 1호선 장전역 1,2번 출구 온천천 방향 도보 이동\\n버스 16, 29, 49, 51, 77, 80, 100, 100-1, 110, 111-1, 121, 131, 144, 301, 1008 장전역 하차\",\"USAGE_DAY\":\"\",\"USAGE_DAY_WEEK_AND_TIME\":\"2024. 5. 24.(금) ~ 5.26.(일)\",\"USAGE_AMOUNT\":\"무료\",\"MAIN_IMG_NORMAL\":\"https://www.visitbusan.net/uploadImgs/files/cntnts/20191227115551778_ttiel\",\"MAIN_IMG_THUMB\":\"https://www.visitbusan.net/uploadImgs/files/cntnts/20191227115551778_thumbL\",\"ITEMCNTNTS\":\"5월은 축제의 계절, 부산 금정구에서도 금정산성의 역사와 문화를 연계한 금정산성축제를 개최한다.\\n전국 최장 길이 금정산성과 경치 좋은 산책길 온천천 일대에서 펼쳐지는 3일간의 문화예술 체험축제이다. 녹음이 우거진 금정산성 마을에서 즐기는 역사문화여행, 호패 하나 손에 쥐고 떠나는 오감만족 체험의 세계로 방문객을 초대한다.\\n금정구 일원에서도 신나는 거리공연과 다양한 부대행사를 진행한다.\\n5월엔 축제 프로그램 풍성한 금정산성으로 놀러가자!\\n\\n**금정산성 축제**\\n2024. 5. 24.(금) ~ 5.26.(일)\\n\\n\\n\",\"MIDDLE_SIZE_RM1\":\"\"},{\"UC_SEQ\":331,\"MAIN_TITLE\":\"낙동강구포나루축제(한,영,중간,중번,일)\",\"GUGUN_NM\":\"북구\",\"LAT\":35.22585,\"LNG\":129.00346,\"PLACE\":\"낙동강구포나루축제, 부산축제\",\"TITLE\":\"구포나루의 추억과 낭만 낙동강구포나루축제\",\"SUBTITLE\":\"\",\"MAIN_PLACE\":\"낙동강구포나루축제\",\"ADDR1\":\"부산광역시 북구 화명생태공원 연꽃단지 일원\",\"ADDR2\":\"\",\"CNTCT_TEL\":\"051-309-4522\",\"HOMEPAGE_URL\":\"https://www.bsbukgu.go.kr/tour/index.bsbukgu?menuCd=DOM_000000402006001000\",\"TRFC_INFO\":\"도시철도 2호선 수정역 3번 출구 화명생태공원\\n버스 15, 59, 111, 121, 126, 1009, 북구3, 북구7, 금정구1 수정역 하차\",\"USAGE_DAY\":\"\",\"USAGE_DAY_WEEK_AND_TIME\":\"2024.10.11. (금) ~ 2024.10.13. (일)\",\"USAGE_AMOUNT\":\"무료\",\"MAIN_IMG_NORMAL\":\"https://www.visitbusan.net/uploadImgs/files/cntnts/20191227120157384_ttiel\",\"MAIN_IMG_THUMB\":\"https://www.visitbusan.net/uploadImgs/files/cntnts/20191227120157384_thumbL\",\"ITEMCNTNTS\":\"싱그러운 봄, 솔솔 부는 강바람에 구포나루의 정겨운 북적거림이 실려 온다.\\n조선시대 낙동강 뱃길의 출발지로 교역문화의 꽃을 피웠던 구포나루터. 번성했던 옛 구포나루를 그대로 재연해 당시의 감동과 향수를 선사하는 낙동강구포나루축제가 매년 화명생태공원에서 개최된다. 낙동강과 더불어 살아온 사람들의 삶, 그 진솔한 이야기를 다양한 공연과 체험‧전시 프로그램에 담아낸다.\\n강변에서 펼쳐지는 낙동강구포나루축제에서 향기로운 추억 만들기 도전해볼까?\\n\\n**낙동강구포나루축제**\\n2024.10.11. (금) ~ 2024.10.13. (일)\\n\\n\\n\",\"MIDDLE_SIZE_RM1\":\"\"},{\"UC_SEQ\":395,\"MAIN_TITLE\":\"부산불꽃축제(한, 영, 중간, 중번, 일)\",\"GUGUN_NM\":\"수영구\",\"LAT\":35.152725,\"LNG\":129.11848,\"PLACE\":\"부산불꽃축제, 광안리\",\"TITLE\":\"아름다운 부산 밤하늘의 하모니, 부산불꽃축제\",\"SUBTITLE\":\"모두를 감싸주는 가을밤 불꽃과 함께\",\"MAIN_PLACE\":\"부산불꽃축제\",\"ADDR1\":\"부산광역시 수영구 광안해변로 219\",\"ADDR2\":\"\",\"CNTCT_TEL\":\" 051-713-5000\",\"HOMEPAGE_URL\":\"https://www.bfo.or.kr/festival/info/01.asp?MENUDIV=1\",\"TRFC_INFO\":\"도시철도 2호선 광안역 5번 출구 도보 12분\\n버스 41, 42 광안리해수욕장 하차 도보 5분\\n주차 인근 공영주차장(유료)\",\"USAGE_DAY\":\"매년 11월\",\"USAGE_DAY_WEEK_AND_TIME\":\"2024.11.9.(토)\",\"USAGE_AMOUNT\":\"무료 (유료좌석 구매별도)\",\"MAIN_IMG_NORMAL\":\"https://www.visitbusan.net/uploadImgs/files/cntnts/20241022165920388_ttiel\",\"MAIN_IMG_THUMB\":\"https://www.visitbusan.net/uploadImgs/files/cntnts/20241022165920388_thumbL\",\"ITEMCNTNTS\":\"부산의 가을은 화려한 불빛으로 꽃핀다. 광안리 해변은 물론, 광안리 바다가 내려다보이는 곳이라면 부산 곳곳에 사람들이 모인다. 사람들의 수많은 이목이 광안리 바다와 하늘에 활짝 핀 불꽃에 하나로 모였다. 지금은 바로 부산불꽃축제의 시간이다.\\n\\n반짝이는 광안대교가 보이기 시작한다. 광안대교가 가까워질수록 사람들은 점점 모여들어서 점차 발 디딜 틈도 보이지 않는다. 하지만 가을밤 기분 좋을 정도로 쌀쌀한 바닷바람을 맞으며 불꽃을 기다리는 사람들의 표정은 피어날 불꽃보다도 밝은 듯하다.\\n\\n부산불꽃축제를 더욱 즐겁게 즐기기 위한 아이템에는 무엇이 있을까? 무엇보다 보온에 신경을 쓰는 게 좋다. 낮에는 따뜻한 날씨일지라도 가을밤바다는 바람도 많이 불고 춥기 때문에, 출발할 때는 약간 덥다고 느낄지라도 따뜻한 외투도 입고 담요도 챙기는 것이 좋다. 그리고 수많은 사람이 광안리에 모이는 만큼 한 번 자리를 잡으면 불꽃축제가 끝날 때 까지 다시 나갔다가 자리로 돌아오기 쉽지 않다. 불꽃축제와 함께 즐길 먹을거리와 마실 거리를 미리 챙기고, 화장실도 자리에 앉기 전에 미리 해결해서 난감한 경우가 생기지 않도록 하자.\\n\\n미리 도착해서 함께 불꽃축제를 즐길 사람들과 먹을거리를 나누며 기다리는 시간. 긴 시간 같지만 점점 많아지는 사람들을 바라보며 즐거운 축제의 분위기에 젖어 들다보면 어느새 주위는 어둑어둑해진다. 이제 불꽃의 시간이 얼마 남지 않았다.\\n백 만 명이 넘는 사람이 함께 외치는 카운트다운 소리와 함께 드디어 불꽃축제가 시작됐다. 한 발 한 발 까만 밤하늘 위로 선을 그으며 올라가는 불꽃들이 펑! 하는 소리와 함께 큼직하게 퍼진다. 퍼지는 불꽃은 한 두 개가 아니라, 한 눈에 다 담아지지도 않을 만큼 많고 넓은 불꽃의 향연이다.\\n광안대교 앞에 떠있는 바지선에서 먼저, 광안대교에서 한 번 더, 그리고 광안대교 뒤쪽 넓은 바다에서 또 한 번 서로를 감싸주듯 쏟아지는 불꽃의 향연에 모두가 젖어든다.\\n부산불꽃축제는 광안리 해수욕장에서만 즐길 수 있는 것은 아니다. 부산의 다양한 곳에서 또 다른 느낌으로 즐길 수 있다. 대표적인 장소로는 마린시티, 황령산 봉수대, 달맞이고개, 청사포 등이 있다. 사실 워낙 불꽃의 규모가 크다 보니 부산의 어지간한 높은 곳에서는 다 보이긴 하지만, 거리가 멀어질수록 당연히 불꽃의 일부만 보이고 펑펑 터지는 소리와 불꽃의 시간차가 길어지기 때문에 다소 역동감은 떨어질 수 있으니 기호와 상황에 따라 적절한 장소를 선택하도록 하자.\\n\\n밤바다와 밤하늘, 음악과 불꽃 그리고 사람들의 함성과 부산의 야경이 함께 만들어내는 아름다운 부산 가을밤의 하모니. 바로 부산불꽃축제다.\\n\\n**부산 불꽃축제**\\n2024.11.9.(토)\\n\\n\\n\",\"MIDDLE_SIZE_RM1\":\"\"},{\"UC_SEQ\":403,\"MAIN_TITLE\":\"삼광사 연등축제(한,영,중간,중번,일)\",\"GUGUN_NM\":\"부산진구\",\"LAT\":35.175694,\"LNG\":129.04338,\"PLACE\":\"연등축제,삼광사\",\"TITLE\":\"오색찬란 연등터널 삼광사 연등축제\",\"SUBTITLE\":\"\",\"MAIN_PLACE\":\"삼광사 연등축제\",\"ADDR1\":\"부산광역시 부산진구 초읍천로43번길 77\",\"ADDR2\":\"\",\"CNTCT_TEL\":\"051-808-7111\",\"HOMEPAGE_URL\":\"http://www.samkwangsa.or.kr/\",\"TRFC_INFO\":\"도시철도 2호선 서면역 9번 출구 영광도서 맞은편 정류장 → 마을버스 부산진구15 환승 → 삼광사 경내 하차\\n버스 44, 54, 63, 81, 133 삼광사 입구 하차\\n주차 삼광사 주차장(무료)\",\"USAGE_DAY\":\"\",\"USAGE_DAY_WEEK_AND_TIME\":\"2024. 4. 27(토) ~ 5.15(수)\",\"USAGE_AMOUNT\":\"무료\",\"MAIN_IMG_NORMAL\":\"https://www.visitbusan.net/uploadImgs/files/cntnts/20230503134701548_ttiel\",\"MAIN_IMG_THUMB\":\"https://www.visitbusan.net/uploadImgs/files/cntnts/20230503134701548_thumbL\",\"ITEMCNTNTS\":\"부처님 오신 날을 전후로 새벽까지 환하게 연등을 밝히는 삼광사. 수를 셀 수 없는 수 만개의 연등이 백양산 자락을 수놓는다. 부처님의 지혜로 온 세상의 어둠을 밝히는 경이로운 축제다.\\n연등터널이 만들어진 계단을 오를수록 현실을 벗어나 환상의 세계로 점점 빠져든다. 머리 위로 쏟아지는 수많은 불빛에 눈이 부시다. 경내 뒤편 가장 꼭대기로 오르면 삼광사의 연등 물결이 장관을 이룬다. 번뇌로 가득한 어두운 마음이 환해지는 것 같다. (2012년 미국 CNN ‘한국의 아름다운 명소 50선’에 선정)\\n\\n**삼광사 연등축제 **\\n기간 : 2024. 4. 27(토) ~ 5.15(수)\\n\\n\\n\",\"MIDDLE_SIZE_RM1\":\"휠체어접근 가능\"},{\"UC_SEQ\":404,\"MAIN_TITLE\":\"부산원도심활성화축제(한,영,중간,중번,일)\",\"GUGUN_NM\":\"중구\",\"LAT\":35.104343,\"LNG\":129.03537,\"PLACE\":\"부산원도심활성화축제\",\"TITLE\":\"제9회 부산원도심활성화축제 택슐랭\",\"SUBTITLE\":\"부산 원도심의 풍부한 맛을 느낄 수 있는 부산원도심활성화축제\",\"MAIN_PLACE\":\"부산원도심활성화축제\",\"ADDR1\":\"부산광역시 중구, 서구, 동구, 영도구 일원\",\"ADDR2\":\"\",\"CNTCT_TEL\":\"051-713-5000\",\"HOMEPAGE_URL\":\"https://www.bfo.or.kr/festival_city/info/01.asp?MENUDIV=1\",\"TRFC_INFO\":\"\",\"USAGE_DAY\":\"\",\"USAGE_DAY_WEEK_AND_TIME\":\"2024.05.17(금)~2024.05.26(일)\",\"USAGE_AMOUNT\":\"유료 \",\"MAIN_IMG_NORMAL\":\"https://www.visitbusan.net/uploadImgs/files/cntnts/20191230190825680_ttiel\",\"MAIN_IMG_THUMB\":\"https://www.visitbusan.net/uploadImgs/files/cntnts/20191230190825680_thumbL\",\"ITEMCNTNTS\":\"**부산원도심활성화축제 **\\n일 정 : 2024.05.17(금)~2024.05.26(일)\\n장 소 : 중구, 서구, 동구, 영도구 4개 일원\\n\\n제9회 부산원도심활성화축제 '택슐랭'이 5월 17일부터 2주간 진행된다. '택슐랭'은 세계적으로 유명한 '미슐랭 가이드'에서 착안해, 부산 원도심 베테랑 택시기사의 맛집 추천 가이드를 뜻하는 이름이다. 이름처럼 구성도 부산 원도심의 맛집을 파헤치는 택슐랭 가이드, 택슐랭 오픈 세레머니, 관련한 원도심 투어, 체험 및 이벤트 등으로 이루어져 있다. 부산 원도심의 유서 깊은 맛집을 풍부하게 즐기고 싶다면 이 축제에 참가해보기를 추천한다. \\n\\n\\n\",\"MIDDLE_SIZE_RM1\":\"\"},{\"UC_SEQ\":405,\"MAIN_TITLE\":\"해운대모래축제(한,영,중간,중번,일)\",\"GUGUN_NM\":\"해운대구\",\"LAT\":35.158497,\"LNG\":129.15985,\"PLACE\":\"해운대모래축제, 해운대\",\"TITLE\":\"모래의 변신은 예술, 해운대모래축제를 가다\",\"SUBTITLE\":\"\",\"MAIN_PLACE\":\"해운대모래축제\",\"ADDR1\":\"해운대해수욕장, 해운대광장(구남로) 일원\",\"ADDR2\":\"\",\"CNTCT_TEL\":\"051-749-4062\",\"HOMEPAGE_URL\":\"https://www.instagram.com/sandfestival_haeundae/\",\"TRFC_INFO\":\"도시철도 2호선 해운대역 3,5번 출구 도보 이동\\n버스 139, 307, 1003 해운대해수욕장 하차\\n주차 해운대해수욕장 공영주차장\",\"USAGE_DAY\":\"\",\"USAGE_DAY_WEEK_AND_TIME\":\"2024.5.24.(금) ~ 5.27.(월)\",\"USAGE_AMOUNT\":\"무료(체험비 별도)\",\"MAIN_IMG_NORMAL\":\"https://www.visitbusan.net/uploadImgs/files/cntnts/20230522152952371_ttiel\",\"MAIN_IMG_THUMB\":\"https://www.visitbusan.net/uploadImgs/files/cntnts/20230522152952371_thumbL\",\"ITEMCNTNTS\":\"세계적인 작가의 모래조각 작품이 해운대 백사장 위에 펼쳐진다. 매년 새로운 전시 테마로 거대한 야외미술관을 만드는 해운대모래축제는 방문객들에게 전국 어느 해변에도 없는 색다른 경험을 선사한다.\\n해운대 바다를 배경으로 근사한 모래작품들이 저마다의 매력을 뽐내고, 주위엔 데크를 깔아놓아 발이 모래에 빠질 걱정 없이 편안하게 이동하며 작품을 감상할 수 있다. 이외에도 샌드보드, 모래 속 보물찾기 등 다양한 체험행사와 퍼레이드 공연, 프리마켓이 운영된다.\\n\\n**2024 해운대 모래축제**\\n2024.5.24.(금) ~ 5.27.(월)\\n\\n\\n\",\"MIDDLE_SIZE_RM1\":\"휠체어접근 가능구간 있음\"},{\"UC_SEQ\":406,\"MAIN_TITLE\":\"부산항축제(한,영,중간,중번,일)\",\"GUGUN_NM\":\"동구\",\"LAT\":35.117317,\"LNG\":129.04904,\"PLACE\":\"부산항축제\",\"TITLE\":\"해양에 대한 모든 것, 부산항축제\",\"SUBTITLE\":\"\",\"MAIN_PLACE\":\"부산항축제\",\"ADDR1\":\"부산항국제여객터미널, 국립해양박물관 일원\",\"ADDR2\":\"\",\"CNTCT_TEL\":\"051-713-5000\",\"HOMEPAGE_URL\":\"https://www.bfo.or.kr/festival_port/info/01.asp?MENUDIV=1\",\"TRFC_INFO\":\"부산항국제여객터미널\\n버스 5-1, 1004 부산항국제여객터미널 하차\\n\\n국립해양박물관\\n버스 66, 186 국립해양박물관 하차\",\"USAGE_DAY\":\"\",\"USAGE_DAY_WEEK_AND_TIME\":\"2024. 6. 1.(토) ~ 6. 2.(일)\",\"USAGE_AMOUNT\":\"무료\",\"MAIN_IMG_NORMAL\":\"https://www.visitbusan.net/uploadImgs/files/cntnts/20191230191940029_ttiel\",\"MAIN_IMG_THUMB\":\"https://www.visitbusan.net/uploadImgs/files/cntnts/20191230191940029_thumbL\",\"ITEMCNTNTS\":\"항만축제라는 새로운 컨셉의 축제로 해양‧항만에 관한 모든 이야기를 함께 즐기고 배우는 체험형 축제, 부산항축제가 매년 6월 부산에서 열린다. 20여 분에 걸친 개막 불꽃축제가 장관을 이룬다. 또한 해군함정이나 크루즈를 타고 부산항 투어를 즐길 수 있으며, 대형 선박 공개행사, 가족과 함께 걷기, 스탬프투어, 각종 해양레저 체험 등 다양한 프로그램이 방문객들에게 폭발적인 인기를 끌고 있다.\\n\\n**부산항축제**\\n2024. 6. 1.(토) ~ 6. 2.(일)\\n\\n** 사진제공 : 부산축제조직위원회\\n\\n\\n\",\"MIDDLE_SIZE_RM1\":\"휠체어접근 가능구간 있음\"}],\"numOfRows\":10,\"pageNo\":1,\"totalCount\":39}}\n"
     ]
    }
   ],
   "source": [
    "url='http://apis.data.go.kr/6260000/FestivalService/getFestivalKr'\n",
    "prams=f'?ServiceKey={key}&pageNum=1&numOfRows=10&resultType=json'\n",
    "res=req.urlopen(url+prams)\n",
    "print(res.read().decode('utf-8'))"
   ]
  },
  {
   "cell_type": "code",
   "execution_count": 206,
   "metadata": {},
   "outputs": [
    {
     "data": {
      "text/plain": [
       "('data/businfo.xml', <http.client.HTTPMessage at 0x1c588128350>)"
      ]
     },
     "execution_count": 206,
     "metadata": {},
     "output_type": "execute_result"
    }
   ],
   "source": [
    "key='3kVMvhnJRPIp4Hjn8vQbvKIju8yrIizHMNtQZeSVn%2BTCnOcNtox%2FAFuoLcWkqwhZX3UewHHp9h3KHGiaDeX0pg%3D%3D'\n",
    "url='http://apis.data.go.kr/6260000/BusanBIMS/busInfo?'\n",
    "no=68\n",
    "params=f'ServiceKey={key}&lineno={no}'\n",
    "path='data/businfo.xml'\n",
    "req.urlretrieve(url+params,path)"
   ]
  },
  {
   "cell_type": "code",
   "execution_count": 207,
   "metadata": {},
   "outputs": [
    {
     "name": "stdout",
     "output_type": "stream",
     "text": [
      "5200068000\n"
     ]
    }
   ],
   "source": [
    "xml=open(path,'r',encoding='utf-8')\n",
    "soup=bs(xml,'xml')\n",
    "#print(soup)\n",
    "items=soup.find_all('item')\n",
    "#print(items)\n",
    "lineid=''\n",
    "for item in items:\n",
    "    linenum=item.find('buslinenum').text\n",
    "    if int(linenum)==no:\n",
    "        lineid=item.find('lineid').text\n",
    "print(lineid)\n",
    "#5200068000"
   ]
  },
  {
   "cell_type": "code",
   "execution_count": 208,
   "metadata": {},
   "outputs": [],
   "source": [
    "from bs4 import BeautifulSoup as bs"
   ]
  },
  {
   "cell_type": "code",
   "execution_count": 209,
   "metadata": {},
   "outputs": [
    {
     "data": {
      "text/plain": [
       "('data/busposition.xml', <http.client.HTTPMessage at 0x1c588129040>)"
      ]
     },
     "execution_count": 209,
     "metadata": {},
     "output_type": "execute_result"
    }
   ],
   "source": [
    "url1='http://apis.data.go.kr/6260000/BusanBIMS/busInfoByRouteId'\n",
    "params=f'?ServiceKey={key}&lineid={lineid}'\n",
    "save_path='data/busposition.xml'\n",
    "req.urlretrieve(url1+params,save_path)"
   ]
  },
  {
   "cell_type": "code",
   "execution_count": 210,
   "metadata": {},
   "outputs": [
    {
     "name": "stdout",
     "output_type": "stream",
     "text": [
      "용당동 35.1160896 129.0949248\n",
      "한신문화타운 35.1231040 129.0974592\n",
      "남광시장 35.1240960 129.0877824\n",
      "우암자유아파트 35.1245696 129.0777344\n",
      "문현교차로 35.1350464 129.0674176\n",
      "자유.평화시장 35.1409504 129.0603776\n",
      "범내골역 35.1493504 129.0592384\n",
      "서면역.서면지하상가 35.1575520 129.0578304\n",
      "부암역 35.1571392 129.0489600\n",
      "동의대역 35.1533536 129.0259072\n",
      "냉정역.동서대경남정보대 35.1514752 129.0143872\n",
      "주례사거리 35.1489824 128.9997568\n",
      "학장교차로 35.1430816 128.9868928\n",
      "엄궁럭키아파트 35.1334272 128.9738752\n",
      "엄궁동주민센터 35.1289152 128.9701632\n",
      "하단교차로 35.1079840 128.9673600\n",
      "하단역환승센터 35.1061472 128.9647360\n",
      "하단SK뷰아파트앞 35.1165120 128.9624192\n",
      "엄궁럭키아파트 35.1328512 128.9736192\n",
      "학장중학교 35.1405376 128.9828736\n",
      "부산구치소 35.1464384 128.9944064\n",
      "주례사거리 35.1504128 129.0024320\n",
      "주례역 35.1506272 129.0034944\n",
      "부산진우체국(가야1치안센터) 35.1546528 129.0358912\n",
      "부암역 35.1576576 129.0542848\n",
      "서면역.롯데호텔백화점 35.1576160 129.0590976\n",
      "눌원빌딩 35.1371200 129.0659328\n",
      "문현교차로 35.1306496 129.0666624\n",
      "동천초등학교 35.1224512 129.0833024\n",
      "유엔공원.부산문화회관 35.1268992 129.0954624\n",
      "용당동 35.1162272 129.0947840\n"
     ]
    }
   ],
   "source": [
    "xml=open(save_path,'r',encoding='utf-8')\n",
    "soup=bs(xml,'xml')\n",
    "items=soup.find_all('item')\n",
    "#print(items)\n",
    "\n",
    "for item in items:\n",
    "    direction=item.find('direction')\n",
    "    if direction !=None:\n",
    "        name=item.find('bstopnm').text\n",
    "        lat=item.find('lat').text\n",
    "        lin=item.find('lin').text\n",
    "        print(name,lat,lin)"
   ]
  },
  {
   "cell_type": "code",
   "execution_count": null,
   "metadata": {},
   "outputs": [],
   "source": [
    "import urllib.parse\n",
    "stopnm=urllib.parse.quote('문현교차로')\n",
    "url='http://apis.data.go.kr/6260000/BusanBIMS/busStopList'\n",
    "params=f'?serviceKey={key}&bstopnm={stopnm}'\n",
    "save_path='data/bstop_list.xml'\n",
    "res=req.urlretrieve(url+params, save_path)\n"
   ]
  },
  {
   "cell_type": "code",
   "execution_count": null,
   "metadata": {},
   "outputs": [
    {
     "name": "stdout",
     "output_type": "stream",
     "text": [
      "['179660301', '179740101', '179860402', '179860401', '179810301', '179860201', '179810201']\n"
     ]
    }
   ],
   "source": [
    "xml=open(save_path,'r',encoding='utf-8')\n",
    "soup=bs(xml,'xml')\n",
    "stopids=[]\n",
    "for item in soup.find_all('item'):\n",
    "    stoptype=item.find('stoptype').text\n",
    "    if stoptype=='일반':\n",
    "        stopid=item.find('bstopid').text\n",
    "        stopids.append(stopid)\n",
    "print(stopids)"
   ]
  },
  {
   "cell_type": "code",
   "execution_count": 227,
   "metadata": {},
   "outputs": [],
   "source": [
    "url2='http://apis.data.go.kr/6260000/BusanBIMS/stopArrByBstopid?'\n",
    "params=f'ServiceKey={key}&bstopid={stopids[0]}'\n",
    "xml=req.urlopen(url2+params).read().decode('utf-8')\n",
    "# save_path=f'data/busArrstop.xml'\n",
    "# req.urlretrieve(url2+params,save_path)"
   ]
  },
  {
   "cell_type": "code",
   "execution_count": 228,
   "metadata": {},
   "outputs": [
    {
     "name": "stdout",
     "output_type": "stream",
     "text": [
      "68번 버스 2분 후 도착 예정, 1번째 정류장 도착 예정\n"
     ]
    }
   ],
   "source": [
    "# save_path=f'data/busArrstop.xml'\n",
    "# xml=open(save_path,'r',encoding='utf-8')\n",
    "soup=bs(xml,'xml')\n",
    "items=soup.find_all('item')\n",
    "#print(items)\n",
    "busno=input(\"버스번호를 입력하세요\")\n",
    "for item in items:\n",
    "    lineno=item.find('lineno').text\n",
    "    if lineno==busno:\n",
    "        try:\n",
    "            min=item.find('min1').text\n",
    "        except:\n",
    "            min='-'\n",
    "        try:\n",
    "            station=item.find('station1').text\n",
    "        except:\n",
    "            station='-'\n",
    "        print(f'{lineno}번 버스 {min}분 후 도착 예정, {station}번째 정류장 도착 예정')"
   ]
  },
  {
   "cell_type": "code",
   "execution_count": 233,
   "metadata": {},
   "outputs": [],
   "source": [
    "url3='http://apis.data.go.kr/6260000/BusanBIMS/busStopList'\n",
    "stopnm=urllib.parse.quote('수영역')\n",
    "\n"
   ]
  }
 ],
 "metadata": {
  "kernelspec": {
   "display_name": "base",
   "language": "python",
   "name": "python3"
  },
  "language_info": {
   "codemirror_mode": {
    "name": "ipython",
    "version": 3
   },
   "file_extension": ".py",
   "mimetype": "text/x-python",
   "name": "python",
   "nbconvert_exporter": "python",
   "pygments_lexer": "ipython3",
   "version": "3.12.7"
  }
 },
 "nbformat": 4,
 "nbformat_minor": 2
}
