{
 "cells": [
  {
   "cell_type": "code",
   "execution_count": 50,
   "id": "initial_id",
   "metadata": {
    "ExecuteTime": {
     "end_time": "2025-03-06T15:59:17.895210Z",
     "start_time": "2025-03-06T15:59:09.321264Z"
    },
    "collapsed": true
   },
   "outputs": [
    {
     "name": "stdout",
     "output_type": "stream",
     "text": [
      "Requirement already satisfied: bs4 in c:\\programdata\\anaconda3\\lib\\site-packages (0.0.2)\n",
      "Requirement already satisfied: beautifulsoup4 in c:\\programdata\\anaconda3\\lib\\site-packages (from bs4) (4.12.3)\n",
      "Requirement already satisfied: soupsieve>1.2 in c:\\programdata\\anaconda3\\lib\\site-packages (from beautifulsoup4->bs4) (2.5)\n",
      "Requirement already satisfied: lxml in c:\\programdata\\anaconda3\\lib\\site-packages (5.2.1)\n",
      "Requirement already satisfied: pandas in c:\\programdata\\anaconda3\\lib\\site-packages (2.2.2)\n",
      "Requirement already satisfied: numpy>=1.26.0 in c:\\programdata\\anaconda3\\lib\\site-packages (from pandas) (1.26.4)\n",
      "Requirement already satisfied: python-dateutil>=2.8.2 in c:\\programdata\\anaconda3\\lib\\site-packages (from pandas) (2.9.0.post0)\n",
      "Requirement already satisfied: pytz>=2020.1 in c:\\programdata\\anaconda3\\lib\\site-packages (from pandas) (2024.1)\n",
      "Requirement already satisfied: tzdata>=2022.7 in c:\\programdata\\anaconda3\\lib\\site-packages (from pandas) (2023.3)\n",
      "Requirement already satisfied: six>=1.5 in c:\\programdata\\anaconda3\\lib\\site-packages (from python-dateutil>=2.8.2->pandas) (1.16.0)\n"
     ]
    }
   ],
   "source": [
    "! pip install bs4\n",
    "! pip install lxml\n",
    "! pip install pandas"
   ]
  },
  {
   "cell_type": "code",
   "execution_count": 51,
   "id": "af10709b44d8e554",
   "metadata": {
    "ExecuteTime": {
     "end_time": "2025-03-06T15:59:17.903412Z",
     "start_time": "2025-03-06T15:59:17.899196Z"
    }
   },
   "outputs": [],
   "source": [
    "from bs4 import BeautifulSoup as bs\n",
    "import urllib.request as req\n",
    "import pandas as pds"
   ]
  },
  {
   "cell_type": "code",
   "execution_count": 52,
   "id": "5885eff50123534f",
   "metadata": {
    "ExecuteTime": {
     "end_time": "2025-03-06T15:59:17.929181Z",
     "start_time": "2025-03-06T15:59:17.926189Z"
    }
   },
   "outputs": [],
   "source": [
    "result = []"
   ]
  },
  {
   "cell_type": "code",
   "execution_count": 53,
   "id": "f9624b2b5ad501dc",
   "metadata": {
    "ExecuteTime": {
     "end_time": "2025-03-06T15:59:31.732087Z",
     "start_time": "2025-03-06T15:59:17.972999Z"
    }
   },
   "outputs": [],
   "source": [
    "for page in range(1,50):\n",
    "    url = \"https://www.hollys.co.kr/store/korea/korStore2.do?pageNo=%d&sido=&gugun=&store=\" %page\n",
    "    html = req.urlopen(url)\n",
    "    soup = bs(html, 'html.parser')\n",
    "    tbody = soup.find('tbody')\n",
    "    # print(url)\n",
    "    stores_html = tbody.find_all('tr')\n",
    "    for store in stores_html:\n",
    "        if len(store)<=3: break\n",
    "        store_td = store.find_all(\"td\")\n",
    "        store_sido = store_td[0].text\n",
    "        store_name = store_td[1].text\n",
    "        store_address = store_td[3].text\n",
    "        store_tel = store_td[5].text\n",
    "        result.append((store_sido, store_name, store_address, store_tel))\n"
   ]
  },
  {
   "cell_type": "code",
   "execution_count": 54,
   "id": "8af680cbca232ecf",
   "metadata": {
    "ExecuteTime": {
     "end_time": "2025-03-06T15:59:31.741647Z",
     "start_time": "2025-03-06T15:59:31.737076Z"
    }
   },
   "outputs": [],
   "source": [
    "df = pds.DataFrame(result, columns=('store_sido', 'store_name', 'store_address', 'store_tel'))"
   ]
  },
  {
   "cell_type": "code",
   "execution_count": 55,
   "id": "5c68d58cf42493ef",
   "metadata": {
    "ExecuteTime": {
     "end_time": "2025-03-06T15:59:31.773217Z",
     "start_time": "2025-03-06T15:59:31.765477Z"
    }
   },
   "outputs": [],
   "source": [
    "df.to_csv('data/hollysStores.csv',index=True,encoding='utf-8')"
   ]
  }
 ],
 "metadata": {
  "kernelspec": {
   "display_name": "Python 3",
   "language": "python",
   "name": "python3"
  },
  "language_info": {
   "codemirror_mode": {
    "name": "ipython",
    "version": 2
   },
   "file_extension": ".py",
   "mimetype": "text/x-python",
   "name": "python",
   "nbconvert_exporter": "python",
   "pygments_lexer": "ipython2",
   "version": "2.7.6"
  }
 },
 "nbformat": 4,
 "nbformat_minor": 5
}
