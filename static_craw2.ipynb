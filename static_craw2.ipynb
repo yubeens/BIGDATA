{
 "cells": [
  {
   "cell_type": "code",
   "execution_count": 4,
   "metadata": {},
   "outputs": [],
   "source": [
    "from bs4 import BeautifulSoup as bs\n",
    "import requests\n",
    "import re\n",
    "import json"
   ]
  },
  {
   "cell_type": "code",
   "execution_count": 9,
   "metadata": {},
   "outputs": [
    {
     "name": "stdout",
     "output_type": "stream",
     "text": [
      "<class 'str'>\n",
      "<class 'bs4.BeautifulSoup'>\n",
      "<!DOCTYPE html>\n",
      "<html>\n",
      " <head>\n",
      "  <meta charset=\"utf-8\"/>\n",
      "  <title>\n",
      "   Test BeautifulSoup\n",
      "  </title>\n",
      " </head>\n",
      " <body>\n",
      "  <p align=\"center\">\n",
      "   P태그의 컨텐트\n",
      "  </p>\n",
      "  <img src=\"http://unico2013.dothome.co.kr/image/flower.jpg\" width=\"300\"/>\n",
      "  <img height=\"200\" src=\"https://imgnews.pstatic.net/image/030/2025/03/05/0003289926_001_20250305113112989.jpg?type=w860\" width=\"300\"/>\n",
      "  <ul>\n",
      "   <li>\n",
      "    테스트1\n",
      "    <strong>\n",
      "     강조\n",
      "    </strong>\n",
      "   </li>\n",
      "   <li>\n",
      "    테스트2\n",
      "   </li>\n",
      "   <li>\n",
      "    테스트3\n",
      "   </li>\n",
      "  </ul>\n",
      "  <div>\n",
      "   <ul>\n",
      "    <li>\n",
      "     한빛출판네트워크\n",
      "    </li>\n",
      "    <li>\n",
      "     비기너\n",
      "    </li>\n",
      "    <li>\n",
      "     데이터 분석\n",
      "    </li>\n",
      "   </ul>\n",
      "  </div>\n",
      " </body>\n",
      "</html>\n",
      "\n"
     ]
    }
   ],
   "source": [
    "webPage = open(\"data/Sample01.html\",\"rt\",encoding=\"utf-8\").read() #rt is read text\n",
    "print(type(webPage))\n",
    "soup=bs(webPage,\"html.parser\")\n",
    "print(type(soup))\n",
    "print(soup.prettify())"
   ]
  },
  {
   "cell_type": "code",
   "execution_count": 14,
   "metadata": {},
   "outputs": [
    {
     "name": "stdout",
     "output_type": "stream",
     "text": [
      "<p align=\"center\">P태그의 컨텐트</p>\n",
      "P태그의 컨텐트\n",
      "P태그의 컨텐트\n",
      "P태그의 컨텐트\n",
      "['P태그의 컨텐트']\n"
     ]
    }
   ],
   "source": [
    "p1=soup.p #p의 속성\n",
    "print(p1)\n",
    "print(p1.text)\n",
    "print(p1.string)\n",
    "print(p1.getText())\n",
    "print(p1.contents)"
   ]
  },
  {
   "cell_type": "code",
   "execution_count": 15,
   "metadata": {},
   "outputs": [
    {
     "name": "stdout",
     "output_type": "stream",
     "text": [
      "<li>테스트1<strong>강조</strong></li>\n",
      "테스트1강조\n",
      "None\n",
      "테스트1강조\n",
      "['테스트1', <strong>강조</strong>]\n"
     ]
    }
   ],
   "source": [
    "li1=soup.li \n",
    "print(li1)\n",
    "print(li1.text)\n",
    "print(li1.string)\n",
    "print(li1.getText())\n",
    "print(li1.contents)"
   ]
  },
  {
   "cell_type": "code",
   "execution_count": 20,
   "metadata": {},
   "outputs": [
    {
     "name": "stdout",
     "output_type": "stream",
     "text": [
      "<li>테스트1<strong>강조</strong></li>\n",
      "[<li>테스트1<strong>강조</strong></li>, <li>테스트2</li>, <li>테스트3</li>, <li> 한빛출판네트워크 </li>, <li> 비기너 </li>, <li> 데이터 분석 </li>]\n",
      "<ul>\n",
      "<li>테스트1<strong>강조</strong></li>\n",
      "<li>테스트2</li>\n",
      "<li>테스트3</li>\n",
      "</ul>\n",
      "[<li>테스트1<strong>강조</strong></li>, <li>테스트2</li>, <li>테스트3</li>]\n",
      "<div>\n",
      "<ul>\n",
      "<li> 한빛출판네트워크 </li>\n",
      "<li> 비기너 </li>\n",
      "<li> 데이터 분석 </li>\n",
      "</ul>\n",
      "</div>\n",
      "[<li> 한빛출판네트워크 </li>, <li> 비기너 </li>, <li> 데이터 분석 </li>]\n"
     ]
    }
   ],
   "source": [
    "li2=soup.find(\"li\")\n",
    "print(li2)\n",
    "li_list=soup.find_all(\"li\")\n",
    "print(li_list)\n",
    "ul=soup.find(\"ul\")\n",
    "print(ul)\n",
    "li_list2=ul.find_all(\"li\")\n",
    "print(li_list2)\n",
    "div=soup.find(\"div\")\n",
    "print(div)\n",
    "li_list3=div.find_all(\"li\")\n",
    "print(li_list3)"
   ]
  },
  {
   "cell_type": "code",
   "execution_count": 23,
   "metadata": {},
   "outputs": [
    {
     "name": "stdout",
     "output_type": "stream",
     "text": [
      "<li> 한빛출판네트워크 </li>\n"
     ]
    }
   ],
   "source": [
    "li_list4=soup.select_one(\"div li\")\n",
    "print(li_list4)"
   ]
  }
 ],
 "metadata": {
  "kernelspec": {
   "display_name": "base",
   "language": "python",
   "name": "python3"
  },
  "language_info": {
   "codemirror_mode": {
    "name": "ipython",
    "version": 3
   },
   "file_extension": ".py",
   "mimetype": "text/x-python",
   "name": "python",
   "nbconvert_exporter": "python",
   "pygments_lexer": "ipython3",
   "version": "3.12.7"
  }
 },
 "nbformat": 4,
 "nbformat_minor": 2
}
