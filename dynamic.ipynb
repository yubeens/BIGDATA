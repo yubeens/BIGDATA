{
 "cells": [
  {
   "cell_type": "code",
   "execution_count": null,
   "metadata": {},
   "outputs": [
    {
     "name": "stdout",
     "output_type": "stream",
     "text": [
      "Collecting selenium\n",
      "  Downloading selenium-4.29.0-py3-none-any.whl.metadata (7.1 kB)\n",
      "Requirement already satisfied: urllib3<3,>=1.26 in c:\\users\\it\\anaconda3\\lib\\site-packages (from urllib3[socks]<3,>=1.26->selenium) (2.2.3)\n",
      "Collecting trio~=0.17 (from selenium)\n",
      "  Downloading trio-0.29.0-py3-none-any.whl.metadata (8.5 kB)\n",
      "Collecting trio-websocket~=0.9 (from selenium)\n",
      "  Downloading trio_websocket-0.12.2-py3-none-any.whl.metadata (5.1 kB)\n",
      "Requirement already satisfied: certifi>=2021.10.8 in c:\\users\\it\\anaconda3\\lib\\site-packages (from selenium) (2025.1.31)\n",
      "Requirement already satisfied: typing_extensions~=4.9 in c:\\users\\it\\anaconda3\\lib\\site-packages (from selenium) (4.11.0)\n",
      "Requirement already satisfied: websocket-client~=1.8 in c:\\users\\it\\anaconda3\\lib\\site-packages (from selenium) (1.8.0)\n",
      "Collecting attrs>=23.2.0 (from trio~=0.17->selenium)\n",
      "  Downloading attrs-25.1.0-py3-none-any.whl.metadata (10 kB)\n",
      "Requirement already satisfied: sortedcontainers in c:\\users\\it\\anaconda3\\lib\\site-packages (from trio~=0.17->selenium) (2.4.0)\n",
      "Requirement already satisfied: idna in c:\\users\\it\\anaconda3\\lib\\site-packages (from trio~=0.17->selenium) (3.7)\n",
      "Collecting outcome (from trio~=0.17->selenium)\n",
      "  Downloading outcome-1.3.0.post0-py2.py3-none-any.whl.metadata (2.6 kB)\n",
      "Requirement already satisfied: sniffio>=1.3.0 in c:\\users\\it\\anaconda3\\lib\\site-packages (from trio~=0.17->selenium) (1.3.0)\n",
      "Requirement already satisfied: cffi>=1.14 in c:\\users\\it\\anaconda3\\lib\\site-packages (from trio~=0.17->selenium) (1.17.1)\n",
      "Collecting wsproto>=0.14 (from trio-websocket~=0.9->selenium)\n",
      "  Downloading wsproto-1.2.0-py3-none-any.whl.metadata (5.6 kB)\n",
      "Requirement already satisfied: pysocks!=1.5.7,<2.0,>=1.5.6 in c:\\users\\it\\anaconda3\\lib\\site-packages (from urllib3[socks]<3,>=1.26->selenium) (1.7.1)\n",
      "Requirement already satisfied: pycparser in c:\\users\\it\\anaconda3\\lib\\site-packages (from cffi>=1.14->trio~=0.17->selenium) (2.21)\n",
      "Requirement already satisfied: h11<1,>=0.9.0 in c:\\users\\it\\anaconda3\\lib\\site-packages (from wsproto>=0.14->trio-websocket~=0.9->selenium) (0.14.0)\n",
      "Downloading selenium-4.29.0-py3-none-any.whl (9.5 MB)\n",
      "   ---------------------------------------- 0.0/9.5 MB ? eta -:--:--\n",
      "   ---------------------------------------- 9.5/9.5 MB 53.9 MB/s eta 0:00:00\n",
      "Downloading trio-0.29.0-py3-none-any.whl (492 kB)\n",
      "Downloading trio_websocket-0.12.2-py3-none-any.whl (21 kB)\n",
      "Downloading attrs-25.1.0-py3-none-any.whl (63 kB)\n",
      "Downloading outcome-1.3.0.post0-py2.py3-none-any.whl (10 kB)\n",
      "Downloading wsproto-1.2.0-py3-none-any.whl (24 kB)\n",
      "Installing collected packages: wsproto, attrs, outcome, trio, trio-websocket, selenium\n",
      "  Attempting uninstall: attrs\n",
      "    Found existing installation: attrs 23.1.0\n",
      "    Uninstalling attrs-23.1.0:\n",
      "      Successfully uninstalled attrs-23.1.0\n",
      "Successfully installed attrs-25.1.0 outcome-1.3.0.post0 selenium-4.29.0 trio-0.29.0 trio-websocket-0.12.2 wsproto-1.2.0\n"
     ]
    }
   ],
   "source": [
    "# ! pip install selenium"
   ]
  },
  {
   "cell_type": "code",
   "execution_count": null,
   "metadata": {},
   "outputs": [],
   "source": [
    "from selenium import webdriver\n",
    "import time\n",
    "\n",
    "driver = webdriver.Chrome() # chrome driver / 브라우저 객체를 생성하고 열기 함.\n",
    "driver.get(\"https://www.google.com\") # 해당 URL로 이동함.\n",
    "\n",
    "driver.implicitly_wait(10)\n",
    " # 브라우저에서 사용되는 모든 요소를 찾을 때까지 최대 10초간 대기함.\n",
    " # 실행이 끝나면 즉시 다음 명령 실행 \n",
    "\n",
    "\n",
    "#time.sleep(5) # 5초간 대기함 time.sleep() 함수는 일정 시간동안 대기하는 함수임.\n",
    "\n",
    "driver.quit() # 브라우저를 닫음. driver종료"
   ]
  },
  {
   "cell_type": "code",
   "execution_count": 8,
   "metadata": {},
   "outputs": [],
   "source": [
    "# 특정 요소 클릭하기\n",
    "driver=webdriver.Chrome()\n",
    "driver.get(\"https://www.google.com\")\n",
    "time.sleep(5)\n",
    "button=driver.find_element('link text','Gmail')\n",
    "button.click()\n",
    "time.sleep(5)\n",
    "driver.quit()"
   ]
  },
  {
   "cell_type": "code",
   "execution_count": null,
   "metadata": {},
   "outputs": [],
   "source": [
    "# 키보드 입력방법\n",
    "from selenium import webdriver\n",
    "import time\n",
    "from selenium.webdriver.common.keys import Keys\n",
    "driver=webdriver.Chrome()\n",
    "driver.get(\"https://www.naver.com\")\n",
    "driver.implicitly_wait(10)\n",
    "\n",
    "search_box=driver.find_element(\"name\",\"query\")\n",
    "search_box.send_keys(\"빈지노\")\n",
    "search_box.send_keys(Keys.ENTER)\n",
    "time.sleep(20)\n",
    "driver.quit()"
   ]
  },
  {
   "cell_type": "code",
   "execution_count": 7,
   "metadata": {},
   "outputs": [
    {
     "name": "stdout",
     "output_type": "stream",
     "text": [
      "WebDriver 객체 :  <class 'selenium.webdriver.chrome.webdriver.WebDriver'>\n",
      "찾아온 태그 객체 :  <class 'selenium.webdriver.remote.webelement.WebElement'>\n"
     ]
    }
   ],
   "source": [
    "#Selenium을 사용한 크롬 브라우저 제어 예제\n",
    "from selenium import webdriver\n",
    "from selenium.webdriver.common.keys import Keys\n",
    "from selenium.webdriver.common.by import By\n",
    "\n",
    "driver = webdriver.Chrome() #드라이브 객체 생성\n",
    "print(\"WebDriver 객체 : \", type(driver))\n",
    "\n",
    "driver.get('http://www.naver.com/ncr') # page load\n",
    "target = driver.find_element(By.CSS_SELECTOR, \"[name='query']\")\n",
    "print(\"찾아온 태그 객체 : \", type(target))\n",
    "target.send_keys('파이썬') #검색 폼에 '파이썬' 검색어 보내기\n",
    "target.send_keys(Keys.ENTER) #엔터키 입력\n",
    "#driver.quit() #브라우저 종료"
   ]
  },
  {
   "cell_type": "code",
   "execution_count": 10,
   "metadata": {},
   "outputs": [
    {
     "name": "stdout",
     "output_type": "stream",
     "text": [
      "WebDriver 객체 :  <class 'selenium.webdriver.chrome.webdriver.WebDriver'>\n",
      "태그 객체 :  <class 'selenium.webdriver.remote.webelement.WebElement'>\n"
     ]
    }
   ],
   "source": [
    "#메서드를 사용한 웹 페이지 파싱\n",
    "from selenium import webdriver\n",
    "from selenium.webdriver.common.keys import Keys\n",
    "from selenium.webdriver.common.by import By\n",
    "\n",
    "driver = webdriver.Chrome() #드라이브 객체 생성\n",
    "print(\"WebDriver 객체 : \", type(driver))\n",
    "\n",
    "driver.get('http://www.naver.com/') \n",
    "# target = driver.find_element(By.CSS_SELECTOR, \"[name='query']\")\n",
    "# target = driver.fine_element(By.NAME, \"query\")\n",
    "# target = driver.find_element(By.ID,\"query\")\n",
    "target = driver.find_element(By.CLASS_NAME, \"search_input\")\n",
    "print(\"태그 객체 : \", type(target))\n",
    "target.send_keys('파이썬') #검색 폼에 '파이썬' 검색어 보내기\n",
    "target.send_keys(Keys.ENTER) #엔터키 입력\n",
    "#driver.quit() #브라우저 종료"
   ]
  },
  {
   "cell_type": "code",
   "execution_count": null,
   "metadata": {},
   "outputs": [],
   "source": [
    "#Selenium을 사용한 크롬 브라우저 제어 예제\n",
    "driver = webdriver.Chrome()\n",
    "driver.get(\"http://news.google.com\")\n",
    "time.sleep(5)\n",
    "\n",
    "driver.execute_script(\"window.scrollTo(0, document.body.scrollHeight);\") # 스크롤을 내림\n",
    "time.sleep(5)\n",
    "driver.quit()"
   ]
  },
  {
   "cell_type": "code",
   "execution_count": 16,
   "metadata": {},
   "outputs": [],
   "source": [
    "# 새 창 열기 >> window.open(\"url\")\n",
    "\n",
    "driver = webdriver.Chrome()\n",
    "driver.get(\"http://www.google.com\")\n",
    "time.sleep(5)\n",
    "\n",
    "driver.execute_script(\"window.open('http://www.naver.com')\") # 새 창 열기\n",
    "time.sleep(5) \n",
    "\n",
    "driver.execute_script(\"window.open('http:/daum.net')\") # 새 창 열기\n",
    "time.sleep(5)\n",
    "\n",
    "# 창 핸들 가져오기\n",
    "window=driver.window_handles # 현재 열려있는 창의 핸들을 리스트로 반환\n",
    "driver.switch_to.window(window[0]) # 0번째 창으로 전환\n",
    "time.sleep(5)\n",
    "driver.quit()"
   ]
  },
  {
   "cell_type": "code",
   "execution_count": 19,
   "metadata": {},
   "outputs": [
    {
     "name": "stdout",
     "output_type": "stream",
     "text": [
      "HTML Tutorial\n"
     ]
    }
   ],
   "source": [
    "# iframe으로 전환\n",
    "driver=webdriver.Chrome()\n",
    "driver.get('https://www.w3schools.com/html/html_iframe.asp')\n",
    "time.sleep(3)\n",
    "\n",
    "#페이지 전환, iframd안의 로딩된 콘텐츠를 가져오라\n",
    "iframe = driver.find_element(\"css selector\", \"iframe[src*='default.asp']\")\n",
    "driver.switch_to.frame(iframe)\n",
    "\n",
    "element = driver.find_element('css selector',\"h1\")\n",
    "print(element.text)\n",
    "\n",
    "time.sleep(3)\n",
    "driver.quit()"
   ]
  },
  {
   "cell_type": "code",
   "execution_count": 21,
   "metadata": {},
   "outputs": [
    {
     "name": "stdout",
     "output_type": "stream",
     "text": [
      "Learn HTML\n",
      "HTML is the standard markup language for Web pages.\n",
      "With HTML you can create your own Website.\n",
      "HTML is easy to learn - You will enjoy it!\n",
      "Start learning HTML now »\n"
     ]
    }
   ],
   "source": [
    "import time\n",
    "from selenium import webdriver\n",
    "\n",
    "# iframe으로 전환2\n",
    "driver=webdriver.Chrome()\n",
    "driver.get('https://www.w3schools.com/html/html_iframe.asp')\n",
    "time.sleep(3)\n",
    "\n",
    "#페이지 전환, iframd안의 로딩된 콘텐츠를 가져오라\n",
    "iframe = driver.find_element(\"css selector\",\"iframe[src*='default.asp']\")\n",
    "driver.switch_to.frame(iframe)\n",
    "\n",
    "element = driver.find_element('css selector',\"#main > div.w3-panel.w3-info.intro\")\n",
    "print(element.text)\n",
    "\n",
    "time.sleep(3)\n",
    "driver.quit()"
   ]
  },
  {
   "cell_type": "code",
   "execution_count": null,
   "metadata": {},
   "outputs": [
    {
     "name": "stdout",
     "output_type": "stream",
     "text": [
      "기존의 쿠키 정보 출력\n",
      "[{'domain': '.w3schools.com', 'expiry': 1775446018, 'httpOnly': False, 'name': 'cto_bundle', 'path': '/', 'sameSite': 'Lax', 'secure': False, 'value': 'kYP0c19HZSUyQkZvQnRBWGR1TnFROXlsSndVeTFuaiUyRjdvM2IwSSUyRk5zdWxvYk5pb1lFdmp3QmpLQ3dBMElpbERZS3ViaFVLODBNZlpKZSUyQlVWa1BlUWs5SGtmVHE1bW9LRUE1OEl6VFFoOFJxR0FXMXIwJTJGVUZsbWE0Y29nYURtTzJ1UFdYUHFNUDhWNk03JTJCTm1MZ1FvT0xId3pVUHclM0QlM0Q'}, {'domain': '.w3schools.com', 'expiry': 1757302005, 'httpOnly': False, 'name': '__eoi', 'path': '/', 'sameSite': 'None', 'secure': True, 'value': 'ID=9d147121791e4450:T=1741750005:RT=1741750005:S=AA-AfjaKWmCUJNsxE-_PO6b_YFyV'}, {'domain': '.w3schools.com', 'expiry': 1775446005, 'httpOnly': False, 'name': '__gpi', 'path': '/', 'sameSite': 'None', 'secure': True, 'value': 'UID=0000105e37b56148:T=1741750005:RT=1741750005:S=ALNI_Mbl-_Gd6LCNIrvcrGpHWBJ-iaW7yw'}, {'domain': '.w3schools.com', 'expiry': 1773286005, 'httpOnly': False, 'name': 'connectId', 'path': '/', 'sameSite': 'None', 'secure': True, 'value': '{\"ttl\":86400000,\"lastUsed\":1741750005090,\"lastSynced\":1741750005090}'}, {'domain': '.w3schools.com', 'expiry': 1773286004, 'httpOnly': False, 'name': '_sharedID_last', 'path': '/', 'sameSite': 'Lax', 'secure': False, 'value': 'Wed%2C%2012%20Mar%202025%2003%3A26%3A44%20GMT'}, {'domain': '.w3schools.com', 'expiry': 1742354805, 'httpOnly': False, 'name': 'panoramaIdType', 'path': '/', 'sameSite': 'Lax', 'secure': False, 'value': 'panoDevice'}, {'domain': '.w3schools.com', 'expiry': 1742354805, 'httpOnly': False, 'name': 'panoramaId_expiry', 'path': '/', 'sameSite': 'Lax', 'secure': False, 'value': '1742354804957'}, {'domain': 'www.w3schools.com', 'expiry': 1744342008, 'httpOnly': False, 'name': 'hb_insticator_uid', 'path': '/', 'sameSite': 'Lax', 'secure': False, 'value': '132b259f-b766-43cd-85bb-684f3a328462'}, {'domain': '.w3schools.com', 'expiry': 1765078004, 'httpOnly': False, 'name': '_cc_id', 'path': '/', 'sameSite': 'Lax', 'secure': False, 'value': '99206fa14a8c0d6ba294bc42b485294'}, {'domain': 'www.w3schools.com', 'expiry': 1744342004, 'httpOnly': False, 'name': '_lr_env_src_ats', 'path': '/', 'sameSite': 'Lax', 'secure': False, 'value': 'false'}, {'domain': '.w3schools.com', 'expiry': 1776310009, 'httpOnly': False, 'name': '_ga_9YNMTB56NB', 'path': '/', 'sameSite': 'Lax', 'secure': False, 'value': 'GS1.1.1741750004.1.1.1741750009.0.0.0'}, {'domain': '.w3schools.com', 'expiry': 1775446005, 'httpOnly': False, 'name': '__gads', 'path': '/', 'sameSite': 'None', 'secure': True, 'value': 'ID=04f4357af4f8c7fb:T=1741750005:RT=1741750005:S=ALNI_MZJwTCODGvpdx_5w0WV4yW1KvylzQ'}, {'domain': 'www.w3schools.com', 'expiry': 1741753604, 'httpOnly': False, 'name': '_lr_retry_request', 'path': '/', 'sameSite': 'Lax', 'secure': False, 'value': 'true'}, {'domain': '.w3schools.com', 'expiry': 1742354805, 'httpOnly': False, 'name': 'panoramaId', 'path': '/', 'sameSite': 'Lax', 'secure': False, 'value': 'eb5f5bc355b4bb83c12a9e548600185ca02cbcd81b01597dffeedf2e76c63678'}, {'domain': '.w3schools.com', 'expiry': 1773286009, 'httpOnly': False, 'name': '_sharedID_cst', 'path': '/', 'sameSite': 'Lax', 'secure': False, 'value': 'zix7LPQsHA%3D%3D'}, {'domain': '.w3schools.com', 'expiry': 1776310004, 'httpOnly': False, 'name': '_ga', 'path': '/', 'sameSite': 'Lax', 'secure': False, 'value': 'GA1.1.584973725.1741750004'}, {'domain': '.w3schools.com', 'expiry': 1773286009, 'httpOnly': False, 'name': '_sharedID', 'path': '/', 'sameSite': 'Lax', 'secure': False, 'value': '77442ce0-0cfa-4c67-8e5f-1a8421c86712'}]\n",
      "추가된 쿠키 확인\n",
      "[{'domain': '.w3schools.com', 'expiry': 1775446026, 'httpOnly': False, 'name': 'cto_bundle', 'path': '/', 'sameSite': 'Lax', 'secure': False, 'value': 'SpKb1V9HZSUyQkZvQnRBWGR1TnFROXlsSndVeSUyRlZLU3FUa0p2ajNDYm40cjRGa3J5Y1NSczMwT25DdkNNTHlCTllkUnE4RjN3djFISTA1ZTdlbVdocjhSdzI2dFZ6QnBUNlhCNXRSQUFhRVdCblZwOWR1QU80YkN6UFFNck53M2dKbklnNTZjYk1wUXB4MFVMOCUyQml4U1c5Rk8lMkJlUSUzRCUzRA'}, {'domain': 'www.w3schools.com', 'httpOnly': False, 'name': 'yubeen', 'path': '/', 'sameSite': 'Lax', 'secure': True, 'value': '조유빈'}, {'domain': '.w3schools.com', 'expiry': 1757302005, 'httpOnly': False, 'name': '__eoi', 'path': '/', 'sameSite': 'None', 'secure': True, 'value': 'ID=9d147121791e4450:T=1741750005:RT=1741750005:S=AA-AfjaKWmCUJNsxE-_PO6b_YFyV'}, {'domain': '.w3schools.com', 'expiry': 1776310027, 'httpOnly': False, 'name': '_ga_9YNMTB56NB', 'path': '/', 'sameSite': 'Lax', 'secure': False, 'value': 'GS1.1.1741750004.1.1.1741750027.0.0.0'}, {'domain': 'www.w3schools.com', 'expiry': 1741753604, 'httpOnly': False, 'name': '_lr_retry_request', 'path': '/', 'sameSite': 'Lax', 'secure': False, 'value': 'true'}, {'domain': '.w3schools.com', 'expiry': 1775446005, 'httpOnly': False, 'name': '__gads', 'path': '/', 'sameSite': 'None', 'secure': True, 'value': 'ID=04f4357af4f8c7fb:T=1741750005:RT=1741750005:S=ALNI_MZJwTCODGvpdx_5w0WV4yW1KvylzQ'}, {'domain': '.w3schools.com', 'expiry': 1773286024, 'httpOnly': False, 'name': '_sharedID_last', 'path': '/', 'sameSite': 'Lax', 'secure': False, 'value': 'Wed%2C%2012%20Mar%202025%2003%3A27%3A04%20GMT'}, {'domain': '.w3schools.com', 'expiry': 1742354805, 'httpOnly': False, 'name': 'panoramaIdType', 'path': '/', 'sameSite': 'Lax', 'secure': False, 'value': 'panoDevice'}, {'domain': '.w3schools.com', 'expiry': 1742354805, 'httpOnly': False, 'name': 'panoramaId_expiry', 'path': '/', 'sameSite': 'Lax', 'secure': False, 'value': '1742354804957'}, {'domain': '.w3schools.com', 'expiry': 1776310025, 'httpOnly': False, 'name': '_ga', 'path': '/', 'sameSite': 'Lax', 'secure': False, 'value': 'GA1.1.584973725.1741750004'}, {'domain': '.w3schools.com', 'expiry': 1775446005, 'httpOnly': False, 'name': '__gpi', 'path': '/', 'sameSite': 'None', 'secure': True, 'value': 'UID=0000105e37b56148:T=1741750005:RT=1741750005:S=ALNI_Mbl-_Gd6LCNIrvcrGpHWBJ-iaW7yw'}, {'domain': '.w3schools.com', 'expiry': 1773286005, 'httpOnly': False, 'name': 'connectId', 'path': '/', 'sameSite': 'None', 'secure': True, 'value': '{\"ttl\":86400000,\"lastUsed\":1741750005090,\"lastSynced\":1741750005090}'}, {'domain': 'www.w3schools.com', 'expiry': 1744342028, 'httpOnly': False, 'name': 'hb_insticator_uid', 'path': '/', 'sameSite': 'Lax', 'secure': False, 'value': '132b259f-b766-43cd-85bb-684f3a328462'}, {'domain': '.w3schools.com', 'expiry': 1765078004, 'httpOnly': False, 'name': '_cc_id', 'path': '/', 'sameSite': 'Lax', 'secure': False, 'value': '99206fa14a8c0d6ba294bc42b485294'}, {'domain': 'www.w3schools.com', 'expiry': 1744342004, 'httpOnly': False, 'name': '_lr_env_src_ats', 'path': '/', 'sameSite': 'Lax', 'secure': False, 'value': 'false'}, {'domain': '.w3schools.com', 'expiry': 1773286028, 'httpOnly': False, 'name': '_sharedID_cst', 'path': '/', 'sameSite': 'Lax', 'secure': False, 'value': 'zix7LPQsHA%3D%3D'}, {'domain': '.w3schools.com', 'expiry': 1742354805, 'httpOnly': False, 'name': 'panoramaId', 'path': '/', 'sameSite': 'Lax', 'secure': False, 'value': 'eb5f5bc355b4bb83c12a9e548600185ca02cbcd81b01597dffeedf2e76c63678'}, {'domain': '.w3schools.com', 'expiry': 1773286028, 'httpOnly': False, 'name': '_sharedID', 'path': '/', 'sameSite': 'Lax', 'secure': False, 'value': '77442ce0-0cfa-4c67-8e5f-1a8421c86712'}]\n",
      "삭제된 쿠키\n",
      "[{'domain': '.w3schools.com', 'expiry': 1775446026, 'httpOnly': False, 'name': 'cto_bundle', 'path': '/', 'sameSite': 'Lax', 'secure': False, 'value': 'SpKb1V9HZSUyQkZvQnRBWGR1TnFROXlsSndVeSUyRlZLU3FUa0p2ajNDYm40cjRGa3J5Y1NSczMwT25DdkNNTHlCTllkUnE4RjN3djFISTA1ZTdlbVdocjhSdzI2dFZ6QnBUNlhCNXRSQUFhRVdCblZwOWR1QU80YkN6UFFNck53M2dKbklnNTZjYk1wUXB4MFVMOCUyQml4U1c5Rk8lMkJlUSUzRCUzRA'}, {'domain': '.w3schools.com', 'expiry': 1757302005, 'httpOnly': False, 'name': '__eoi', 'path': '/', 'sameSite': 'None', 'secure': True, 'value': 'ID=9d147121791e4450:T=1741750005:RT=1741750005:S=AA-AfjaKWmCUJNsxE-_PO6b_YFyV'}, {'domain': '.w3schools.com', 'expiry': 1776310033, 'httpOnly': False, 'name': '_ga_9YNMTB56NB', 'path': '/', 'sameSite': 'Lax', 'secure': False, 'value': 'GS1.1.1741750004.1.1.1741750033.0.0.0'}, {'domain': 'www.w3schools.com', 'expiry': 1741753604, 'httpOnly': False, 'name': '_lr_retry_request', 'path': '/', 'sameSite': 'Lax', 'secure': False, 'value': 'true'}, {'domain': '.w3schools.com', 'expiry': 1775446005, 'httpOnly': False, 'name': '__gads', 'path': '/', 'sameSite': 'None', 'secure': True, 'value': 'ID=04f4357af4f8c7fb:T=1741750005:RT=1741750005:S=ALNI_MZJwTCODGvpdx_5w0WV4yW1KvylzQ'}, {'domain': '.w3schools.com', 'expiry': 1773286024, 'httpOnly': False, 'name': '_sharedID_last', 'path': '/', 'sameSite': 'Lax', 'secure': False, 'value': 'Wed%2C%2012%20Mar%202025%2003%3A27%3A04%20GMT'}, {'domain': '.w3schools.com', 'expiry': 1742354805, 'httpOnly': False, 'name': 'panoramaIdType', 'path': '/', 'sameSite': 'Lax', 'secure': False, 'value': 'panoDevice'}, {'domain': '.w3schools.com', 'expiry': 1742354805, 'httpOnly': False, 'name': 'panoramaId_expiry', 'path': '/', 'sameSite': 'Lax', 'secure': False, 'value': '1742354804957'}, {'domain': '.w3schools.com', 'expiry': 1776310033, 'httpOnly': False, 'name': '_ga', 'path': '/', 'sameSite': 'Lax', 'secure': False, 'value': 'GA1.1.584973725.1741750004'}, {'domain': '.w3schools.com', 'expiry': 1775446005, 'httpOnly': False, 'name': '__gpi', 'path': '/', 'sameSite': 'None', 'secure': True, 'value': 'UID=0000105e37b56148:T=1741750005:RT=1741750005:S=ALNI_Mbl-_Gd6LCNIrvcrGpHWBJ-iaW7yw'}, {'domain': '.w3schools.com', 'expiry': 1773286005, 'httpOnly': False, 'name': 'connectId', 'path': '/', 'sameSite': 'None', 'secure': True, 'value': '{\"ttl\":86400000,\"lastUsed\":1741750005090,\"lastSynced\":1741750005090}'}, {'domain': 'www.w3schools.com', 'expiry': 1744342034, 'httpOnly': False, 'name': 'hb_insticator_uid', 'path': '/', 'sameSite': 'Lax', 'secure': False, 'value': '132b259f-b766-43cd-85bb-684f3a328462'}, {'domain': '.w3schools.com', 'expiry': 1765078004, 'httpOnly': False, 'name': '_cc_id', 'path': '/', 'sameSite': 'Lax', 'secure': False, 'value': '99206fa14a8c0d6ba294bc42b485294'}, {'domain': 'www.w3schools.com', 'expiry': 1744342004, 'httpOnly': False, 'name': '_lr_env_src_ats', 'path': '/', 'sameSite': 'Lax', 'secure': False, 'value': 'false'}, {'domain': '.w3schools.com', 'expiry': 1773286028, 'httpOnly': False, 'name': '_sharedID_cst', 'path': '/', 'sameSite': 'Lax', 'secure': False, 'value': 'zix7LPQsHA%3D%3D'}, {'domain': '.w3schools.com', 'expiry': 1742354805, 'httpOnly': False, 'name': 'panoramaId', 'path': '/', 'sameSite': 'Lax', 'secure': False, 'value': 'eb5f5bc355b4bb83c12a9e548600185ca02cbcd81b01597dffeedf2e76c63678'}, {'domain': '.w3schools.com', 'expiry': 1773286028, 'httpOnly': False, 'name': '_sharedID', 'path': '/', 'sameSite': 'Lax', 'secure': False, 'value': '77442ce0-0cfa-4c67-8e5f-1a8421c86712'}]\n"
     ]
    }
   ],
   "source": [
    "# iframe으로 전환3 - 쿠키 추가, 삭제\n",
    "driver = webdriver.Edge()\n",
    "driver.get(\"https://www.w3schools.com/html/html_iframe.asp\")\n",
    "time.sleep(3)\n",
    "\n",
    "print(\"기존의 쿠키 정보 출력\")\n",
    "print(driver.get_cookies())\n",
    "time.sleep(3)\n",
    "\n",
    "driver.add_cookie({'name':'yubeen','value':\"조유빈\"})\n",
    "driver.refresh()\n",
    "time.sleep(3)\n",
    "print(\"추가된 쿠키 확인\")\n",
    "cookies = driver.get_cookies()\n",
    "print(cookies)\n",
    "time.sleep(3)\n",
    "driver.delete_cookie('yubeen')\n",
    "driver.refresh()\n",
    "print(\"삭제된 쿠키\")\n",
    "cookies = driver.get_cookies()\n",
    "print(cookies)\n",
    "driver.quit()"
   ]
  },
  {
   "cell_type": "code",
   "execution_count": null,
   "metadata": {},
   "outputs": [],
   "source": [
    "driver = webdriver.Chrome()\n",
    "driver.get(\"https://www.google.com\")\n",
    "time.sleep(3)\n",
    "\n",
    "driver.save_screenshot(\"data/test_screenshot.png\")\n",
    "driver.quit()"
   ]
  },
  {
   "cell_type": "code",
   "execution_count": null,
   "metadata": {},
   "outputs": [
    {
     "name": "stdout",
     "output_type": "stream",
     "text": [
      "총 4개의 스크린샷이 저장되었습니다.\n"
     ]
    }
   ],
   "source": [
    "# 스크롤을 내리면서 스크린샷 찍기\n",
    "from selenium import webdriver\n",
    "import time\n",
    "\n",
    "def take_screenshot_while_scrolling(driver, output_folder=\"screenshots\"):\n",
    "    import os\n",
    "    \n",
    "    # 폴더가 없는 경우 생성\n",
    "    if not os.path.exists(output_folder):\n",
    "        os.makedirs(output_folder)\n",
    "    \n",
    "    total_height = driver.execute_script(\"return document.body.scrollHeight\")  # 페이지의 총 높이를 가져옵니다\n",
    "    viewport_height = driver.execute_script(\"return window.innerHeight\")  # 현재 화면의 높이를 가져옵니다\n",
    "    \n",
    "    scroll_position = 0\n",
    "    screenshot_count = 0\n",
    "    \n",
    "    while scroll_position < total_height:\n",
    "        # 스크린샷 저장\n",
    "        driver.save_screenshot(os.path.join(output_folder, f\"screenshot_{screenshot_count}.png\"))\n",
    "        screenshot_count += 1\n",
    "        \n",
    "        # 스크롤 이동\n",
    "        driver.execute_script(\"window.scrollBy(0, arguments[0])\", viewport_height)\n",
    "        scroll_position += viewport_height   # 현재 스크롤 위치 업데이트\n",
    "        time.sleep(1)  # 스크롤 후 페이지가 로드되도록 잠시 대기\n",
    "    \n",
    "    print(f\"총 {screenshot_count}개의 스크린샷이 저장되었습니다.\")\n",
    "\n",
    "# Use case\n",
    "driver = webdriver.Edge()\n",
    "driver.get(\"https://www.news.google.com\")  # 스크린샷 찍을 페이지로 이동\n",
    "time.sleep(3)  # 페이지 로드 대기\n",
    "\n",
    "# 호출\n",
    "take_screenshot_while_scrolling(driver)\n",
    "\n",
    "driver.quit()"
   ]
  },
  {
   "cell_type": "code",
   "execution_count": 28,
   "metadata": {},
   "outputs": [
    {
     "name": "stdout",
     "output_type": "stream",
     "text": [
      "전체 페이지 스크린샷 저장 완료: beenzino.png\n"
     ]
    }
   ],
   "source": [
    "#전체 페이지 스크린샷 캡처\n",
    "from selenium import webdriver\n",
    "\n",
    "def take_full_page_screenshot(driver, save_path=\"beenzino.png\"):\n",
    "    # Selenium의 execute_cdp_cmd를 이용한 네이티브 스크린샷 (Chromium 기반 브라우저에서 동작)\n",
    "    driver.execute_script(\"document.body.style.zoom='100%'\")  # 줌을 100%로 강제 설정\n",
    "    screenshot = driver.get_screenshot_as_file(save_path)\n",
    "    if screenshot:\n",
    "        print(f\"전체 페이지 스크린샷 저장 완료: {save_path}\")\n",
    "    else:\n",
    "        print(\"스크린샷 저장 실패\")\n",
    "\n",
    "\n",
    "#브라우저 실행 및 캡처 실행\n",
    "driver = webdriver.Edge()  # Microsoft Edge WebDriver\n",
    "driver.get(\"https://img1.daumcdn.net/thumb/R1280x0.fjpg/?fname=http://t1.daumcdn.net/brunch/service/user/eavm/image/Na4i_cqlUef1-G-DWDHAqoTeHi8.jpeg\")  # 캡처하고자 하는 URL\n",
    "driver.implicitly_wait(5)  # 페이지 로드 대기\n",
    "\n",
    "#캡처 함수 호출\n",
    "take_full_page_screenshot(driver)\n",
    "\n",
    "driver.quit()"
   ]
  },
  {
   "cell_type": "code",
   "execution_count": null,
   "metadata": {},
   "outputs": [],
   "source": [
    "driver.implicitly_wait(10)\n",
    "time.sleep(10)"
   ]
  },
  {
   "cell_type": "code",
   "execution_count": 32,
   "metadata": {},
   "outputs": [],
   "source": [
    "#특정요소가 로드 될때까지 대기 (WebDriverWait)\n",
    "from selenium.webdriver.support.ui import WebDriverWait \n",
    "#대기 조건\n",
    "from selenium.webdriver.support import expected_conditions as EC\n",
    "from selenium.webdriver.common.by import By\n",
    "\n",
    "driver = webdriver.Chrome()\n",
    "driver.get(\"https://www.naver.com\")\n",
    "\n",
    "# name의 값이 'q'인 엘리먼트가 로드될 때까지 10초간 기다림\n",
    "# and element 선택이 됨\n",
    "search_box = WebDriverWait(driver, 10).until(\n",
    "    EC.presence_of_element_located((By.NAME, \"query\"))\n",
    ")\n",
    "search_box.send_keys(\"selenium 대기 테스트\")\n",
    "search_box.send_keys(Keys.ENTER)    \n",
    "time.sleep(5)\n",
    "driver.quit()"
   ]
  },
  {
   "cell_type": "code",
   "execution_count": null,
   "metadata": {},
   "outputs": [],
   "source": [
    "#마우스 이벤트 조작(ActionChains)\n",
    "from selenium.webdriver.common.action_chains import ActionChains\n",
    "\n",
    "driver = webdriver.Chrome()\n",
    "driver.get(\"https://www.google.com\")    \n",
    "\n",
    "element = driver.find_element(\"link text\", 'Gmail')\n",
    "\n",
    "#element에 마우스 오버 이벤트 수행\n",
    "actions = ActionChains(driver)  \n",
    "actions.move_to_element(element).click().perform()\n",
    "\n",
    "time.sleep(10)\n",
    "driver.quit()"
   ]
  },
  {
   "cell_type": "code",
   "execution_count": 35,
   "metadata": {},
   "outputs": [],
   "source": [
    "driver = webdriver.Chrome()\n",
    "driver.get(\"https://www.google.com\")\n",
    "\n",
    "searchBox = driver.find_element(\"name\", \"q\")\n",
    "searchBox.send_keys(\"selinium 입력 테스트\")\n",
    "time.sleep(3)\n",
    "searchBox.clear()   # element에 입력된 내용을 지우는 메소드\n",
    "time.sleep(3)\n",
    "driver.quit()"
   ]
  },
  {
   "cell_type": "code",
   "execution_count": null,
   "metadata": {},
   "outputs": [],
   "source": [
    "#브라우저 창 크기 조절하기 (set_window_size())\n",
    "driver = webdriver.Chrome()\n",
    "driver.get(\"https://www.google.com\")\n",
    "time.sleep(3)\n",
    "html=driver.page_source\n",
    "print(html[:1000])\n",
    "\n",
    "#driver.set_window_size(600,400) - 브라우저 창 크기 조절\n",
    "time.sleep(5)\n",
    "driver.quit()"
   ]
  },
  {
   "cell_type": "code",
   "execution_count": 43,
   "metadata": {},
   "outputs": [],
   "source": [
    "#파일 업로드 자동화\n",
    "#https://tus.io/demo.html\n",
    "\n",
    "driver = webdriver.Chrome()\n",
    "driver.get(\"https://tus.io/demo.html\")\n",
    "time.sleep(3)\n",
    "\n",
    "#파일 업로드\n",
    "upload = driver.find_element(\"xpath\",\"//input[@type='file']\")\n",
    "#upload = driver.find_element(\"id\",\"P0-0\")\n",
    "upload.send_keys(r\"C:\\BIGDATA\\beenzino.png\")\n",
    "time.sleep(10)\n",
    "driver.quit()"
   ]
  },
  {
   "cell_type": "code",
   "execution_count": null,
   "metadata": {},
   "outputs": [
    {
     "name": "stdout",
     "output_type": "stream",
     "text": [
      "Selenium으로 네이버 접속 + ChatGPT API 활용 블로그 글 자동 생성\n",
      "2.8 사이트 자동화하기 - selenium 사용법(1) - 비전공자를 위한 파이썬 완벽 가이드\n",
      "Selenium 자동화 테스트 도구 라이브러리 설명\n",
      "🎭 Playwright vs ✳️ Selenium, 테스트 자동화 툴 비교해보기\n",
      "Selenium 자동화 환경 설정, maven TestNG ChromeDriver\n",
      "[Python] 자동 로그인, 구매 등 매크로 만들기 (selenium 사용)\n",
      "Python, Selenium 기반 웹 자동화 테스트 구현하기\n",
      "Selenium\n",
      "[Selenium] 로그인 자동화 프로그램 (캡차 우회)\n",
      "웹 브라우저(Browserless) 기반 자동화 도구, Playwright와 Selenium🐟\n",
      "[Selenium] UI자동화에서 자주 사용하는 메소드\n",
      "[ 웹 브라우저 자동화 ] 효율적인 웹 애플리케이션 Selenium 모듈\n",
      "selenium을 이용한 웹 페이지 자동화 구현\n",
      "Selenium Manager (Beta)\n",
      "[웹 크롤링]네이버 블로그 업로드 자동화(SELENIUM & ChatGPT)\n",
      "2024.02.12. 미션 1) Selenium으로 네이버 접속\n",
      "수업중 pip3 install selenium으로 pycharm에서 드라이버 설치완료\n",
      "아래와 같은 코드 활용 네이버 접속하여 검색어 작성후 검색 클릭\n",
      "로그인→ 블로그글 작성하기 → 임시 저장하기 까지 셀레니움 코드 작성 필요\n",
      "2021.12.01. 💻지금까지 이렇게 친절하게 설명하는 코딩 강의는 없었다 [이것이 진짜 크롤링이다 - 기본편] 💵코딩 실력 향상 100% 보장, 실전 파이썬 데이터 수집 강의 (도움 안되면 환불가능) [이것이 진짜 크롤링이다 - 실전편] BeautifulSoup 라이브러리만으로도 다양한 사이트의 정보를 추출할 수 있습니다. 그런데, BeautifulSoup에게는 한계가 있답니다. 그 한계란 무엇일까요? 바로, \"자바스크립트...\n",
      "2023.04.09. 자동화 공부를 시작하기에 앞서 셀레니움이 무엇이며, 왜 사용하는지 정리해보고 시작하자. Selenium? - 브라우저 자동화에 널리 쓰이는 툴이다. - 앱 테스팅에 주로 사용되지만, 테스트 용도에만 국한되지는 않는다. - 구글 크롬, 모질라 파이어폭스, 마이크로소프트 IE, Edge, 애플 사파리, 오페라 같은 주요 브라우저의 를 지원한다. -...\n",
      "테스트 자동화 툴, Playwright과 Selenium 비교\n",
      "2023.04.13. selenium-start 자바 프로젝트 설정 - 셀레니움 웹 드라이버는 브라우저 자동화를 도와주는 라이브러리 이다. - 브라우저 자동화를 위해 필요한 것은 다음과 같다. (1)... 그리고 메이븐은 프로젝트 빌드에 필요한 라이브러리를 으로 다운로드 한다. - 이클립스와 메이븐을 사용하여, 셀레니움 웹드라이버 테스트 프레임워크를 하나의 프로그램에서...\n",
      "2022.01.20. 웹 사이트 열기 (chrome) 먼저 chromedriver-autoinstaller, selenium을 다운받고 코드를 실행해야 합니다. # 파일명 : main.py import chromedriver... set_window_size(1920, 1080) return driver 만약 위 코드를 사용하고 자동 로그인(아래에 코드 있음)을 시도했을 때 로그인이 막힌다면, 다음 코드를...\n",
      "2023.02.20. 웹 사이트에서 정보를 추출하는 크롤링 또는 테스트 자동화를 구현할 때 셀레니움 (Selenium) 라이브러리를 많이 사용합니다. 이번 포스팅에서는파이썬 개발환경 구축과 셀레니움으로 웹 테스트 자동화를 구현하는 방법에 대해 알아보겠습니다. 파이썬 프로그래밍 환경 구축 파이썬은 언어는 아래와 같은 특징이 있습니다. 인터프리터 언어 (코드 한줄 작성 후 바...\n",
      "Selenium automates browsers. That's it!\n",
      "2024.10.11. 아래는 코드는 네이버 로그인 캡차를 우회하지 않는 코드이다 from selenium import webdriver from selenium.webdriver.common.by import By from selenium.... 돌려보면 아래처럼 다시 로그인이 잘 된다!! 네이버 로그인이 필요한 다양한 서비스들을 할 수 있지만 절대 악용은 하지 말아야한다.\n",
      "2024.06.20. Playwright와 Selenium은 둘 다 웹 브라우저를 자동화하여 웹 스크레이핑이나 웹 테스팅 등에 널리 사용되는 도구입니다. 최근에는 Playwright가 많은 주목을 받고 있으며, 이는 그 특징과 성능 때문입니다. 여러분의 회사에서 적합한 도구를 선택하는데 도움이 되도록 두 도구의 주요 차이점과 장단점을 비교해 드리겠습니다.기술적 특징 및 지...\n",
      "2024.09.13. 위 글은 웹 UI 자동화 스크립트를 작성할 때 자주 사용하는 메서드를 기억하기 위해 기록하는 글입니다. 😊그럼 어김없이 피.언.감🙇♂️ (피드백은 언제나 감사합니다.)*드라이버는 크롬 드라이버 기준입니다.*✔️ WebDriver.get(\"url\")웹드라이버가 지정된 URL로 브라우저를 이동시키는 메서드이다.from import we...\n",
      "2024.09.27. seleium 웹 브라우저 자동화 도구 활용법 [ Python으로 웹 작업 자동화 ]Selenium으로 자동화된 테스트와 웹 스크래핑 효율적으로 구현하기Selenium은 웹 브라우저를 프로그래밍적으로 제어할 수 있는 오픈 소스 [ 웹 브라우저 자동화 도구]로, 주로 P...\n",
      "2022.09.16. 웹 인터페이스를 사용하는 보안 솔루션을 이용하는데, 매일 전날 일일 통계 보고서를 출력해야 하는 일이 생겼다. 그래서 '한 번 자동화로 구현해보자'라는 생각을 가지게 되었고, 언제나 그랬듯이 신입은 시간이 매우 널널하다.. 바로 구현을 해봤다. 선택 이유 선택 이유는 아래 2가지다. 다른 언어로는 어떻게 해야할지 감도 오지 않았다. 1...\n",
      "2025.01.06. Selenium uses the native support implemented by each browser to carry out the automation process. For this reason, Selenium users need to place a component called driver (chromedriver, geckodriver, msedgedriver, etc.) between the script using the Selenium API and the browser. For many years, managing these drivers was a manual process for users. This way, they had to download the required driver for a browser (chromedriver for Chrome, geckodriver for Firefox, etc.) and place it in the P...\n",
      "2024.05.30. [웹 크롤링]네이버 블로그 업로드 자동화(SELENIUM & ChatGPT)1. 필요한 라이브러리 불러오기import seleniumimport timefrom selenium import webdriverfrom selenium.webdriver.common.action_chains import ActionChainsimport pyperclip #...\n"
     ]
    }
   ],
   "source": [
    "#네이버 검색어 제목 가져오기\n",
    "driver = webdriver.Chrome()\n",
    "driver.get(\"https://www.naver.com\")\n",
    "time.sleep(3)\n",
    "\n",
    "search_box = driver.find_element(\"name\", \"query\")\n",
    "search_box.send_keys(\"Selenium 자동화\")\n",
    "search_box.send_keys(Keys.ENTER)\n",
    "time.sleep(3)\n",
    "\n",
    "element1 = driver.find_element(\"css selector\", \"a.group_more\")\n",
    "element1.click()\n",
    "\n",
    "titles = driver.find_elements(\"css selector\",\"div.total_tit > a\")\n",
    "for title in titles:\n",
    "    print(title.text)\n",
    "\n",
    "contents= driver.find_elements(\"css selector\", \"div.total_dsc_wrap\")\n",
    "for content in contents:\n",
    "    print(content.text)\n",
    "\n",
    "#driver.quit()"
   ]
  },
  {
   "cell_type": "code",
   "execution_count": null,
   "metadata": {},
   "outputs": [
    {
     "name": "stdout",
     "output_type": "stream",
     "text": [
      "title0:Selenium으로 네이버 접속 + ChatGPT API 활용 블로그 글 자동 생성\n",
      "content:2024.02.12. 미션 1) Selenium으로 네이버 접속\n",
      "수업중 pip3 install selenium으로 pycharm에서 드라이버 설치완료\n",
      "아래와 같은 코드 활용 네이버 접속하여 검색어 작성후 검색 클릭\n",
      "로그인→ 블로그글 작성하기 → 임시 저장하기 까지 셀레니움 코드 작성 필요\n",
      "title1:2.8 사이트 자동화하기 - selenium 사용법(1) - 비전공자를 위한 파이썬 완벽 가이드\n",
      "content:2021.12.01. 💻지금까지 이렇게 친절하게 설명하는 코딩 강의는 없었다 [이것이 진짜 크롤링이다 - 기본편] 💵코딩 실력 향상 100% 보장, 실전 파이썬 데이터 수집 강의 (도움 안되면 환불가능) [이것이 진짜 크롤링이다 - 실전편] BeautifulSoup 라이브러리만으로도 다양한 사이트의 정보를 추출할 수 있습니다. 그런데, BeautifulSoup에게는 한계가 있답니다. 그 한계란 무엇일까요? 바로, \"자바스크립트...\n",
      "title2:Selenium 자동화 테스트 도구 라이브러리 설명\n",
      "content:2023.04.09. 자동화 공부를 시작하기에 앞서 셀레니움이 무엇이며, 왜 사용하는지 정리해보고 시작하자. Selenium? - 브라우저 자동화에 널리 쓰이는 툴이다. - 앱 테스팅에 주로 사용되지만, 테스트 용도에만 국한되지는 않는다. - 구글 크롬, 모질라 파이어폭스, 마이크로소프트 IE, Edge, 애플 사파리, 오페라 같은 주요 브라우저의 를 지원한다. -...\n",
      "title3:🎭 Playwright vs ✳️ Selenium, 테스트 자동화 툴 비교해보기\n",
      "content:테스트 자동화 툴, Playwright과 Selenium 비교\n",
      "title4:Selenium 자동화 환경 설정, maven TestNG ChromeDriver\n",
      "content:2023.04.13. selenium-start 자바 프로젝트 설정 - 셀레니움 웹 드라이버는 브라우저 자동화를 도와주는 라이브러리 이다. - 브라우저 자동화를 위해 필요한 것은 다음과 같다. (1)... 그리고 메이븐은 프로젝트 빌드에 필요한 라이브러리를 으로 다운로드 한다. - 이클립스와 메이븐을 사용하여, 셀레니움 웹드라이버 테스트 프레임워크를 하나의 프로그램에서...\n",
      "title5:[Python] 자동 로그인, 구매 등 매크로 만들기 (selenium 사용)\n",
      "content:2022.01.20. 웹 사이트 열기 (chrome) 먼저 chromedriver-autoinstaller, selenium을 다운받고 코드를 실행해야 합니다. # 파일명 : main.py import chromedriver... set_window_size(1920, 1080) return driver 만약 위 코드를 사용하고 자동 로그인(아래에 코드 있음)을 시도했을 때 로그인이 막힌다면, 다음 코드를...\n",
      "title6:Python, Selenium 기반 웹 자동화 테스트 구현하기\n",
      "content:2023.02.20. 웹 사이트에서 정보를 추출하는 크롤링 또는 테스트 자동화를 구현할 때 셀레니움 (Selenium) 라이브러리를 많이 사용합니다. 이번 포스팅에서는파이썬 개발환경 구축과 셀레니움으로 웹 테스트 자동화를 구현하는 방법에 대해 알아보겠습니다. 파이썬 프로그래밍 환경 구축 파이썬은 언어는 아래와 같은 특징이 있습니다. 인터프리터 언어 (코드 한줄 작성 후 바...\n",
      "title7:Selenium\n",
      "content:Selenium automates browsers. That's it!\n",
      "title8:[Selenium] 로그인 자동화 프로그램 (캡차 우회)\n",
      "content:2024.10.11. 아래는 코드는 네이버 로그인 캡차를 우회하지 않는 코드이다 from selenium import webdriver from selenium.webdriver.common.by import By from selenium.... 돌려보면 아래처럼 다시 로그인이 잘 된다!! 네이버 로그인이 필요한 다양한 서비스들을 할 수 있지만 절대 악용은 하지 말아야한다.\n",
      "title9:웹 브라우저(Browserless) 기반 자동화 도구, Playwright와 Selenium🐟\n",
      "content:2024.06.20. Playwright와 Selenium은 둘 다 웹 브라우저를 자동화하여 웹 스크레이핑이나 웹 테스팅 등에 널리 사용되는 도구입니다. 최근에는 Playwright가 많은 주목을 받고 있으며, 이는 그 특징과 성능 때문입니다. 여러분의 회사에서 적합한 도구를 선택하는데 도움이 되도록 두 도구의 주요 차이점과 장단점을 비교해 드리겠습니다.기술적 특징 및 지...\n",
      "title10:[Selenium] UI자동화에서 자주 사용하는 메소드\n",
      "content:2024.09.13. 위 글은 웹 UI 자동화 스크립트를 작성할 때 자주 사용하는 메서드를 기억하기 위해 기록하는 글입니다. 😊그럼 어김없이 피.언.감🙇♂️ (피드백은 언제나 감사합니다.)*드라이버는 크롬 드라이버 기준입니다.*✔️ WebDriver.get(\"url\")웹드라이버가 지정된 URL로 브라우저를 이동시키는 메서드이다.from import we...\n",
      "title11:[ 웹 브라우저 자동화 ] 효율적인 웹 애플리케이션 Selenium 모듈\n",
      "content:2024.09.27. seleium 웹 브라우저 자동화 도구 활용법 [ Python으로 웹 작업 자동화 ]Selenium으로 자동화된 테스트와 웹 스크래핑 효율적으로 구현하기Selenium은 웹 브라우저를 프로그래밍적으로 제어할 수 있는 오픈 소스 [ 웹 브라우저 자동화 도구]로, 주로 P...\n",
      "title12:selenium을 이용한 웹 페이지 자동화 구현\n",
      "content:2022.09.16. 웹 인터페이스를 사용하는 보안 솔루션을 이용하는데, 매일 전날 일일 통계 보고서를 출력해야 하는 일이 생겼다. 그래서 '한 번 자동화로 구현해보자'라는 생각을 가지게 되었고, 언제나 그랬듯이 신입은 시간이 매우 널널하다.. 바로 구현을 해봤다. 선택 이유 선택 이유는 아래 2가지다. 다른 언어로는 어떻게 해야할지 감도 오지 않았다. 1...\n",
      "title13:Selenium Manager (Beta)\n",
      "content:2025.01.06. Selenium uses the native support implemented by each browser to carry out the automation process. For this reason, Selenium users need to place a component called driver (chromedriver, geckodriver, msedgedriver, etc.) between the script using the Selenium API and the browser. For many years, managing these drivers was a manual process for users. This way, they had to download the required driver for a browser (chromedriver for Chrome, geckodriver for Firefox, etc.) and place it in the P...\n",
      "title14:[웹 크롤링]네이버 블로그 업로드 자동화(SELENIUM & ChatGPT)\n",
      "content:2024.05.30. [웹 크롤링]네이버 블로그 업로드 자동화(SELENIUM & ChatGPT)1. 필요한 라이브러리 불러오기import seleniumimport timefrom selenium import webdriverfrom selenium.webdriver.common.action_chains import ActionChainsimport pyperclip #...\n"
     ]
    }
   ],
   "source": [
    "#네이버 검색어 제목 가져오기\n",
    "driver = webdriver.Chrome()\n",
    "driver.get(\"https://www.naver.com\")\n",
    "time.sleep(3)\n",
    "\n",
    "search_box = driver.find_element(\"name\", \"query\")\n",
    "search_box.send_keys(\"Selenium 자동화\")\n",
    "search_box.send_keys(Keys.ENTER)\n",
    "time.sleep(3)\n",
    "\n",
    "element1 = driver.find_element(\"css selector\", \"a.group_more\")\n",
    "element1.click()\n",
    "\n",
    "titles=driver.find_elements(\"css selector\",\"div.total_tit > a\")\n",
    "contents=driver.find_elements(\"css selector\",\"div.total_dsc_wrap\")\n",
    "for i in range(len(titles)):\n",
    "    print(f\"title{i}:{titles[i].text}\")\n",
    "    print(f\"content:{contents[i].text}\")\n",
    "\n",
    "driver.quit()"
   ]
  },
  {
   "cell_type": "code",
   "execution_count": 55,
   "metadata": {},
   "outputs": [
    {
     "name": "stdout",
     "output_type": "stream",
     "text": [
      "18\n",
      "제목:Selenium으로 네이버 접속 + ChatGPT API 활용 블로그 글 자동 생성\n",
      "내용:2024.02.12. 미션 1) Selenium으로 네이버 접속\n",
      "수업중 pip3 install selenium으로 pycharm에서 드라이버 설치완료\n",
      "아래와 같은 코드 활용 네이버 접속하여 검색어 작성후 검색 클릭\n",
      "로그인→ 블로그글 작성하기 → 임시 저장하기 까지 셀레니움 코드 작성 필요\n",
      "제목:2.8 사이트 자동화하기 - selenium 사용법(1) - 비전공자를 위한 파이썬 완벽 가이드\n",
      "내용:2021.12.01. 💻지금까지 이렇게 친절하게 설명하는 코딩 강의는 없었다 [이것이 진짜 크롤링이다 - 기본편] 💵코딩 실력 향상 100% 보장, 실전 파이썬 데이터 수집 강의 (도움 안되면 환불가능) [이것이 진짜 크롤링이다 - 실전편] BeautifulSoup 라이브러리만으로도 다양한 사이트의 정보를 추출할 수 있습니다. 그런데, BeautifulSoup에게는 한계가 있답니다. 그 한계란 무엇일까요? 바로, \"자바스크립트...\n",
      "제목:Selenium 자동화 테스트 도구 라이브러리 설명\n",
      "내용:2023.04.09. 자동화 공부를 시작하기에 앞서 셀레니움이 무엇이며, 왜 사용하는지 정리해보고 시작하자. Selenium? - 브라우저 자동화에 널리 쓰이는 툴이다. - 앱 테스팅에 주로 사용되지만, 테스트 용도에만 국한되지는 않는다. - 구글 크롬, 모질라 파이어폭스, 마이크로소프트 IE, Edge, 애플 사파리, 오페라 같은 주요 브라우저의 를 지원한다. -...\n",
      "제목:🎭 Playwright vs ✳️ Selenium, 테스트 자동화 툴 비교해보기\n",
      "내용:테스트 자동화 툴, Playwright과 Selenium 비교\n",
      "제목:Selenium 자동화 환경 설정, maven TestNG ChromeDriver\n",
      "내용:2023.04.13. selenium-start 자바 프로젝트 설정 - 셀레니움 웹 드라이버는 브라우저 자동화를 도와주는 라이브러리 이다. - 브라우저 자동화를 위해 필요한 것은 다음과 같다. (1)... 그리고 메이븐은 프로젝트 빌드에 필요한 라이브러리를 으로 다운로드 한다. - 이클립스와 메이븐을 사용하여, 셀레니움 웹드라이버 테스트 프레임워크를 하나의 프로그램에서...\n",
      "제목:[Python] 자동 로그인, 구매 등 매크로 만들기 (selenium 사용)\n",
      "내용:2022.01.20. 웹 사이트 열기 (chrome) 먼저 chromedriver-autoinstaller, selenium을 다운받고 코드를 실행해야 합니다. # 파일명 : main.py import chromedriver... set_window_size(1920, 1080) return driver 만약 위 코드를 사용하고 자동 로그인(아래에 코드 있음)을 시도했을 때 로그인이 막힌다면, 다음 코드를...\n",
      "제목:Python, Selenium 기반 웹 자동화 테스트 구현하기\n",
      "내용:2023.02.20. 웹 사이트에서 정보를 추출하는 크롤링 또는 테스트 자동화를 구현할 때 셀레니움 (Selenium) 라이브러리를 많이 사용합니다. 이번 포스팅에서는파이썬 개발환경 구축과 셀레니움으로 웹 테스트 자동화를 구현하는 방법에 대해 알아보겠습니다. 파이썬 프로그래밍 환경 구축 파이썬은 언어는 아래와 같은 특징이 있습니다. 인터프리터 언어 (코드 한줄 작성 후 바...\n",
      "제목:Selenium\n",
      "내용:Selenium automates browsers. That's it!\n",
      "제목:[Selenium] 로그인 자동화 프로그램 (캡차 우회)\n",
      "내용:2024.10.11. 아래는 코드는 네이버 로그인 캡차를 우회하지 않는 코드이다 from selenium import webdriver from selenium.webdriver.common.by import By from selenium.... 돌려보면 아래처럼 다시 로그인이 잘 된다!! 네이버 로그인이 필요한 다양한 서비스들을 할 수 있지만 절대 악용은 하지 말아야한다.\n",
      "제목:웹 브라우저(Browserless) 기반 자동화 도구, Playwright와 Selenium🐟\n",
      "내용:2024.06.20. Playwright와 Selenium은 둘 다 웹 브라우저를 자동화하여 웹 스크레이핑이나 웹 테스팅 등에 널리 사용되는 도구입니다. 최근에는 Playwright가 많은 주목을 받고 있으며, 이는 그 특징과 성능 때문입니다. 여러분의 회사에서 적합한 도구를 선택하는데 도움이 되도록 두 도구의 주요 차이점과 장단점을 비교해 드리겠습니다.기술적 특징 및 지...\n",
      "제목:[Selenium] UI자동화에서 자주 사용하는 메소드\n",
      "내용:2024.09.13. 위 글은 웹 UI 자동화 스크립트를 작성할 때 자주 사용하는 메서드를 기억하기 위해 기록하는 글입니다. 😊그럼 어김없이 피.언.감🙇♂️ (피드백은 언제나 감사합니다.)*드라이버는 크롬 드라이버 기준입니다.*✔️ WebDriver.get(\"url\")웹드라이버가 지정된 URL로 브라우저를 이동시키는 메서드이다.from import we...\n",
      "제목:[ 웹 브라우저 자동화 ] 효율적인 웹 애플리케이션 Selenium 모듈\n",
      "내용:2024.09.27. seleium 웹 브라우저 자동화 도구 활용법 [ Python으로 웹 작업 자동화 ]Selenium으로 자동화된 테스트와 웹 스크래핑 효율적으로 구현하기Selenium은 웹 브라우저를 프로그래밍적으로 제어할 수 있는 오픈 소스 [ 웹 브라우저 자동화 도구]로, 주로 P...\n",
      "제목:selenium을 이용한 웹 페이지 자동화 구현\n",
      "내용:2022.09.16. 웹 인터페이스를 사용하는 보안 솔루션을 이용하는데, 매일 전날 일일 통계 보고서를 출력해야 하는 일이 생겼다. 그래서 '한 번 자동화로 구현해보자'라는 생각을 가지게 되었고, 언제나 그랬듯이 신입은 시간이 매우 널널하다.. 바로 구현을 해봤다. 선택 이유 선택 이유는 아래 2가지다. 다른 언어로는 어떻게 해야할지 감도 오지 않았다. 1...\n",
      "제목:Selenium Manager (Beta)\n",
      "내용:2025.01.06. Selenium uses the native support implemented by each browser to carry out the automation process. For this reason, Selenium users need to place a component called driver (chromedriver, geckodriver, msedgedriver, etc.) between the script using the Selenium API and the browser. For many years, managing these drivers was a manual process for users. This way, they had to download the required driver for a browser (chromedriver for Chrome, geckodriver for Firefox, etc.) and place it in the P...\n",
      "제목:[웹 크롤링]네이버 블로그 업로드 자동화(SELENIUM & ChatGPT)\n",
      "내용:2024.05.30. [웹 크롤링]네이버 블로그 업로드 자동화(SELENIUM & ChatGPT)1. 필요한 라이브러리 불러오기import seleniumimport timefrom selenium import webdriverfrom selenium.webdriver.common.action_chains import ActionChainsimport pyperclip #...\n"
     ]
    }
   ],
   "source": [
    "driver = webdriver.Chrome()\n",
    "driver.get(\"https://www.naver.com\")\n",
    "time.sleep(3)\n",
    "\n",
    "search_box = driver.find_element(\"name\", \"query\")\n",
    "search_box.send_keys(\"Selenium 자동화\")\n",
    "search_box.send_keys(Keys.ENTER)\n",
    "time.sleep(3)\n",
    "\n",
    "element1 = driver.find_element(\"css selector\", \"a.group_more\")\n",
    "element1.click()\n",
    "\n",
    "news_list = driver.find_elements(\"css selector\",\"li.bx\")\n",
    "print(len(news_list))\n",
    "\n",
    "for news in news_list:\n",
    "    try:\n",
    "        title=news.find_element(\"css selector\",\"div.total_tit > a\")\n",
    "        content=news.find_element(\"css selector\",\"div.total_dsc_wrap\")\n",
    "        print(f\"제목:{title.text}\")\n",
    "        print(f\"내용:{content.text}\")\n",
    "    except:\n",
    "        pass"
   ]
  }
 ],
 "metadata": {
  "kernelspec": {
   "display_name": "base",
   "language": "python",
   "name": "python3"
  },
  "language_info": {
   "codemirror_mode": {
    "name": "ipython",
    "version": 3
   },
   "file_extension": ".py",
   "mimetype": "text/x-python",
   "name": "python",
   "nbconvert_exporter": "python",
   "pygments_lexer": "ipython3",
   "version": "3.12.7"
  }
 },
 "nbformat": 4,
 "nbformat_minor": 2
}
